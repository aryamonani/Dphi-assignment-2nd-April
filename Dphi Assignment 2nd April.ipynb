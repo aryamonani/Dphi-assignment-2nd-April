{
 "cells": [
  {
   "cell_type": "code",
   "execution_count": 1,
   "metadata": {},
   "outputs": [],
   "source": [
    "import numpy as np\n",
    "import pandas as pd\n",
    "import matplotlib.pyplot as plt\n",
    "import seaborn as sns\n",
    "from sklearn.model_selection import train_test_split\n",
    "from sklearn.metrics import mean_absolute_error"
   ]
  },
  {
   "cell_type": "code",
   "execution_count": 2,
   "metadata": {},
   "outputs": [],
   "source": [
    "raw_data = pd.read_excel('/Users/aryamonani/Downloads/Standard Metropolitan Areas Data.xlsx') #reading data into\n",
    "                                                                                              #variable raw_data"
   ]
  },
  {
   "cell_type": "code",
   "execution_count": 3,
   "metadata": {},
   "outputs": [
    {
     "data": {
      "text/html": [
       "<div>\n",
       "<style scoped>\n",
       "    .dataframe tbody tr th:only-of-type {\n",
       "        vertical-align: middle;\n",
       "    }\n",
       "\n",
       "    .dataframe tbody tr th {\n",
       "        vertical-align: top;\n",
       "    }\n",
       "\n",
       "    .dataframe thead th {\n",
       "        text-align: right;\n",
       "    }\n",
       "</style>\n",
       "<table border=\"1\" class=\"dataframe\">\n",
       "  <thead>\n",
       "    <tr style=\"text-align: right;\">\n",
       "      <th></th>\n",
       "      <th>land_area</th>\n",
       "      <th>percent_city</th>\n",
       "      <th>percent_senior</th>\n",
       "      <th>physicians</th>\n",
       "      <th>hospital_beds</th>\n",
       "      <th>graduates</th>\n",
       "      <th>labor</th>\n",
       "      <th>income</th>\n",
       "      <th>region</th>\n",
       "      <th>crime_rate</th>\n",
       "    </tr>\n",
       "  </thead>\n",
       "  <tbody>\n",
       "    <tr>\n",
       "      <td>0</td>\n",
       "      <td>1384</td>\n",
       "      <td>78.1</td>\n",
       "      <td>12.3</td>\n",
       "      <td>25627</td>\n",
       "      <td>69678</td>\n",
       "      <td>50.1</td>\n",
       "      <td>4083.9</td>\n",
       "      <td>72100</td>\n",
       "      <td>1</td>\n",
       "      <td>75.554916</td>\n",
       "    </tr>\n",
       "    <tr>\n",
       "      <td>1</td>\n",
       "      <td>3719</td>\n",
       "      <td>43.9</td>\n",
       "      <td>9.4</td>\n",
       "      <td>13326</td>\n",
       "      <td>43292</td>\n",
       "      <td>53.9</td>\n",
       "      <td>3305.9</td>\n",
       "      <td>54542</td>\n",
       "      <td>2</td>\n",
       "      <td>56.029927</td>\n",
       "    </tr>\n",
       "    <tr>\n",
       "      <td>2</td>\n",
       "      <td>3553</td>\n",
       "      <td>37.4</td>\n",
       "      <td>10.7</td>\n",
       "      <td>9724</td>\n",
       "      <td>33731</td>\n",
       "      <td>50.6</td>\n",
       "      <td>2066.3</td>\n",
       "      <td>33216</td>\n",
       "      <td>1</td>\n",
       "      <td>41.322904</td>\n",
       "    </tr>\n",
       "    <tr>\n",
       "      <td>3</td>\n",
       "      <td>3916</td>\n",
       "      <td>29.9</td>\n",
       "      <td>8.8</td>\n",
       "      <td>6402</td>\n",
       "      <td>24167</td>\n",
       "      <td>52.2</td>\n",
       "      <td>1966.7</td>\n",
       "      <td>32906</td>\n",
       "      <td>2</td>\n",
       "      <td>67.383524</td>\n",
       "    </tr>\n",
       "    <tr>\n",
       "      <td>4</td>\n",
       "      <td>2480</td>\n",
       "      <td>31.5</td>\n",
       "      <td>10.5</td>\n",
       "      <td>8502</td>\n",
       "      <td>16751</td>\n",
       "      <td>66.1</td>\n",
       "      <td>1514.5</td>\n",
       "      <td>26573</td>\n",
       "      <td>4</td>\n",
       "      <td>80.189189</td>\n",
       "    </tr>\n",
       "  </tbody>\n",
       "</table>\n",
       "</div>"
      ],
      "text/plain": [
       "   land_area  percent_city  percent_senior  physicians  hospital_beds  \\\n",
       "0       1384          78.1            12.3       25627          69678   \n",
       "1       3719          43.9             9.4       13326          43292   \n",
       "2       3553          37.4            10.7        9724          33731   \n",
       "3       3916          29.9             8.8        6402          24167   \n",
       "4       2480          31.5            10.5        8502          16751   \n",
       "\n",
       "   graduates   labor  income  region  crime_rate  \n",
       "0       50.1  4083.9   72100       1   75.554916  \n",
       "1       53.9  3305.9   54542       2   56.029927  \n",
       "2       50.6  2066.3   33216       1   41.322904  \n",
       "3       52.2  1966.7   32906       2   67.383524  \n",
       "4       66.1  1514.5   26573       4   80.189189  "
      ]
     },
     "execution_count": 3,
     "metadata": {},
     "output_type": "execute_result"
    }
   ],
   "source": [
    "raw_data.head() #first 4 rows of the dataset"
   ]
  },
  {
   "cell_type": "code",
   "execution_count": 4,
   "metadata": {},
   "outputs": [
    {
     "data": {
      "text/html": [
       "<div>\n",
       "<style scoped>\n",
       "    .dataframe tbody tr th:only-of-type {\n",
       "        vertical-align: middle;\n",
       "    }\n",
       "\n",
       "    .dataframe tbody tr th {\n",
       "        vertical-align: top;\n",
       "    }\n",
       "\n",
       "    .dataframe thead th {\n",
       "        text-align: right;\n",
       "    }\n",
       "</style>\n",
       "<table border=\"1\" class=\"dataframe\">\n",
       "  <thead>\n",
       "    <tr style=\"text-align: right;\">\n",
       "      <th></th>\n",
       "      <th>land_area</th>\n",
       "      <th>percent_city</th>\n",
       "      <th>percent_senior</th>\n",
       "      <th>physicians</th>\n",
       "      <th>hospital_beds</th>\n",
       "      <th>graduates</th>\n",
       "      <th>labor</th>\n",
       "      <th>income</th>\n",
       "      <th>region</th>\n",
       "      <th>crime_rate</th>\n",
       "    </tr>\n",
       "  </thead>\n",
       "  <tbody>\n",
       "    <tr>\n",
       "      <td>count</td>\n",
       "      <td>99.000000</td>\n",
       "      <td>99.000000</td>\n",
       "      <td>99.000000</td>\n",
       "      <td>99.000000</td>\n",
       "      <td>99.000000</td>\n",
       "      <td>99.000000</td>\n",
       "      <td>99.000000</td>\n",
       "      <td>99.000000</td>\n",
       "      <td>99.000000</td>\n",
       "      <td>99.000000</td>\n",
       "    </tr>\n",
       "    <tr>\n",
       "      <td>mean</td>\n",
       "      <td>2615.727273</td>\n",
       "      <td>42.518182</td>\n",
       "      <td>9.781818</td>\n",
       "      <td>1828.333333</td>\n",
       "      <td>6345.868687</td>\n",
       "      <td>54.463636</td>\n",
       "      <td>449.366667</td>\n",
       "      <td>6762.505051</td>\n",
       "      <td>2.494949</td>\n",
       "      <td>55.643757</td>\n",
       "    </tr>\n",
       "    <tr>\n",
       "      <td>std</td>\n",
       "      <td>3045.826210</td>\n",
       "      <td>17.348277</td>\n",
       "      <td>2.524547</td>\n",
       "      <td>3192.199763</td>\n",
       "      <td>9136.202716</td>\n",
       "      <td>7.773286</td>\n",
       "      <td>610.990885</td>\n",
       "      <td>10393.349660</td>\n",
       "      <td>1.013921</td>\n",
       "      <td>13.471362</td>\n",
       "    </tr>\n",
       "    <tr>\n",
       "      <td>min</td>\n",
       "      <td>47.000000</td>\n",
       "      <td>13.400000</td>\n",
       "      <td>3.900000</td>\n",
       "      <td>140.000000</td>\n",
       "      <td>481.000000</td>\n",
       "      <td>30.300000</td>\n",
       "      <td>66.900000</td>\n",
       "      <td>769.000000</td>\n",
       "      <td>1.000000</td>\n",
       "      <td>23.321839</td>\n",
       "    </tr>\n",
       "    <tr>\n",
       "      <td>25%</td>\n",
       "      <td>1408.000000</td>\n",
       "      <td>30.100000</td>\n",
       "      <td>8.350000</td>\n",
       "      <td>459.000000</td>\n",
       "      <td>2390.000000</td>\n",
       "      <td>50.250000</td>\n",
       "      <td>150.300000</td>\n",
       "      <td>2003.000000</td>\n",
       "      <td>2.000000</td>\n",
       "      <td>46.112486</td>\n",
       "    </tr>\n",
       "    <tr>\n",
       "      <td>50%</td>\n",
       "      <td>1951.000000</td>\n",
       "      <td>39.500000</td>\n",
       "      <td>9.700000</td>\n",
       "      <td>774.000000</td>\n",
       "      <td>3472.000000</td>\n",
       "      <td>54.000000</td>\n",
       "      <td>257.200000</td>\n",
       "      <td>3510.000000</td>\n",
       "      <td>3.000000</td>\n",
       "      <td>56.061290</td>\n",
       "    </tr>\n",
       "    <tr>\n",
       "      <td>75%</td>\n",
       "      <td>2890.500000</td>\n",
       "      <td>52.600000</td>\n",
       "      <td>10.750000</td>\n",
       "      <td>1911.500000</td>\n",
       "      <td>6386.500000</td>\n",
       "      <td>58.300000</td>\n",
       "      <td>436.500000</td>\n",
       "      <td>6283.500000</td>\n",
       "      <td>3.000000</td>\n",
       "      <td>63.859055</td>\n",
       "    </tr>\n",
       "    <tr>\n",
       "      <td>max</td>\n",
       "      <td>27293.000000</td>\n",
       "      <td>100.000000</td>\n",
       "      <td>21.800000</td>\n",
       "      <td>25627.000000</td>\n",
       "      <td>69678.000000</td>\n",
       "      <td>72.800000</td>\n",
       "      <td>4083.900000</td>\n",
       "      <td>72100.000000</td>\n",
       "      <td>4.000000</td>\n",
       "      <td>85.622010</td>\n",
       "    </tr>\n",
       "  </tbody>\n",
       "</table>\n",
       "</div>"
      ],
      "text/plain": [
       "          land_area  percent_city  percent_senior    physicians  \\\n",
       "count     99.000000     99.000000       99.000000     99.000000   \n",
       "mean    2615.727273     42.518182        9.781818   1828.333333   \n",
       "std     3045.826210     17.348277        2.524547   3192.199763   \n",
       "min       47.000000     13.400000        3.900000    140.000000   \n",
       "25%     1408.000000     30.100000        8.350000    459.000000   \n",
       "50%     1951.000000     39.500000        9.700000    774.000000   \n",
       "75%     2890.500000     52.600000       10.750000   1911.500000   \n",
       "max    27293.000000    100.000000       21.800000  25627.000000   \n",
       "\n",
       "       hospital_beds  graduates        labor        income     region  \\\n",
       "count      99.000000  99.000000    99.000000     99.000000  99.000000   \n",
       "mean     6345.868687  54.463636   449.366667   6762.505051   2.494949   \n",
       "std      9136.202716   7.773286   610.990885  10393.349660   1.013921   \n",
       "min       481.000000  30.300000    66.900000    769.000000   1.000000   \n",
       "25%      2390.000000  50.250000   150.300000   2003.000000   2.000000   \n",
       "50%      3472.000000  54.000000   257.200000   3510.000000   3.000000   \n",
       "75%      6386.500000  58.300000   436.500000   6283.500000   3.000000   \n",
       "max     69678.000000  72.800000  4083.900000  72100.000000   4.000000   \n",
       "\n",
       "       crime_rate  \n",
       "count   99.000000  \n",
       "mean    55.643757  \n",
       "std     13.471362  \n",
       "min     23.321839  \n",
       "25%     46.112486  \n",
       "50%     56.061290  \n",
       "75%     63.859055  \n",
       "max     85.622010  "
      ]
     },
     "execution_count": 4,
     "metadata": {},
     "output_type": "execute_result"
    }
   ],
   "source": [
    "raw_data.describe(include = 'all') #no missing values, min to max rows seem fine except labor,\n",
    "                                   #check for skewness, since data is numeric no need to check for cardinality."
   ]
  },
  {
   "cell_type": "markdown",
   "metadata": {},
   "source": [
    "CLEANING DATA"
   ]
  },
  {
   "cell_type": "code",
   "execution_count": 5,
   "metadata": {},
   "outputs": [
    {
     "data": {
      "text/plain": [
       "<matplotlib.axes._subplots.AxesSubplot at 0x1a2077c5d0>"
      ]
     },
     "execution_count": 5,
     "metadata": {},
     "output_type": "execute_result"
    },
    {
     "data": {
      "image/png": "[encoded data removed]",
      "text/plain": [
       "<Figure size 432x288 with 1 Axes>"
      ]
     },
     "metadata": {
      "needs_background": "light"
     },
     "output_type": "display_data"
    }
   ],
   "source": [
    "sns.distplot(raw_data['crime_rate']) #normally distributed, neglible skewness"
   ]
  },
  {
   "cell_type": "code",
   "execution_count": 6,
   "metadata": {},
   "outputs": [
    {
     "data": {
      "text/plain": [
       "<matplotlib.axes._subplots.AxesSubplot at 0x1a2078a610>"
      ]
     },
     "execution_count": 6,
     "metadata": {},
     "output_type": "execute_result"
    },
    {
     "data": {
      "image/png": "[encoded data removed]",
      "text/plain": [
       "<Figure size 432x288 with 1 Axes>"
      ]
     },
     "metadata": {
      "needs_background": "light"
     },
     "output_type": "display_data"
    }
   ],
   "source": [
    "sns.distplot(raw_data['land_area']) #outliers are present, data is skewed."
   ]
  },
  {
   "cell_type": "code",
   "execution_count": 7,
   "metadata": {},
   "outputs": [],
   "source": [
    "raw_data['log_land_area'] = np.log(raw_data['land_area']) #applying log transform on land_area and \n",
    "                                                          #storing it in log_land_area"
   ]
  },
  {
   "cell_type": "code",
   "execution_count": 8,
   "metadata": {},
   "outputs": [
    {
     "data": {
      "text/plain": [
       "<matplotlib.axes._subplots.AxesSubplot at 0x1a210f2c50>"
      ]
     },
     "execution_count": 8,
     "metadata": {},
     "output_type": "execute_result"
    },
    {
     "data": {
      "image/png": "[encoded data removed]",
      "text/plain": [
       "<Figure size 432x288 with 1 Axes>"
      ]
     },
     "metadata": {
      "needs_background": "light"
     },
     "output_type": "display_data"
    }
   ],
   "source": [
    "sns.distplot(raw_data['log_land_area']) #less skewness than before"
   ]
  },
  {
   "cell_type": "code",
   "execution_count": 9,
   "metadata": {},
   "outputs": [
    {
     "data": {
      "text/plain": [
       "<matplotlib.axes._subplots.AxesSubplot at 0x1a2124bc50>"
      ]
     },
     "execution_count": 9,
     "metadata": {},
     "output_type": "execute_result"
    },
    {
     "data": {
      "image/png": "[encoded data removed]",
      "text/plain": [
       "<Figure size 432x288 with 1 Axes>"
      ]
     },
     "metadata": {
      "needs_background": "light"
     },
     "output_type": "display_data"
    }
   ],
   "source": [
    "sns.distplot(raw_data['percent_city']) #normally distributed negligible skewness"
   ]
  },
  {
   "cell_type": "code",
   "execution_count": 10,
   "metadata": {},
   "outputs": [
    {
     "data": {
      "text/plain": [
       "<matplotlib.axes._subplots.AxesSubplot at 0x1a212e4910>"
      ]
     },
     "execution_count": 10,
     "metadata": {},
     "output_type": "execute_result"
    },
    {
     "data": {
      "image/png": "[encoded data removed]",
      "text/plain": [
       "<Figure size 432x288 with 1 Axes>"
      ]
     },
     "metadata": {
      "needs_background": "light"
     },
     "output_type": "display_data"
    }
   ],
   "source": [
    "sns.distplot(raw_data['percent_senior']) #normally distributed, negligble skewness"
   ]
  },
  {
   "cell_type": "code",
   "execution_count": 11,
   "metadata": {},
   "outputs": [
    {
     "data": {
      "text/plain": [
       "<matplotlib.axes._subplots.AxesSubplot at 0x1a2135bd10>"
      ]
     },
     "execution_count": 11,
     "metadata": {},
     "output_type": "execute_result"
    },
    {
     "data": {
      "image/png": "[encoded data removed]",
      "text/plain": [
       "<Figure size 432x288 with 1 Axes>"
      ]
     },
     "metadata": {
      "needs_background": "light"
     },
     "output_type": "display_data"
    }
   ],
   "source": [
    "sns.distplot(raw_data['physicians']) #outliers are present data is skewed"
   ]
  },
  {
   "cell_type": "code",
   "execution_count": 12,
   "metadata": {},
   "outputs": [],
   "source": [
    "raw_data['log_physicians'] = np.log(raw_data['physicians'])"
   ]
  },
  {
   "cell_type": "code",
   "execution_count": 13,
   "metadata": {},
   "outputs": [
    {
     "data": {
      "text/plain": [
       "<matplotlib.axes._subplots.AxesSubplot at 0x1a21549810>"
      ]
     },
     "execution_count": 13,
     "metadata": {},
     "output_type": "execute_result"
    },
    {
     "data": {
      "image/png": "[encoded data removed]",
      "text/plain": [
       "<Figure size 432x288 with 1 Axes>"
      ]
     },
     "metadata": {
      "needs_background": "light"
     },
     "output_type": "display_data"
    }
   ],
   "source": [
    "sns.distplot(raw_data['log_physicians']) #skewness is much lower"
   ]
  },
  {
   "cell_type": "code",
   "execution_count": 14,
   "metadata": {},
   "outputs": [
    {
     "data": {
      "text/plain": [
       "<matplotlib.axes._subplots.AxesSubplot at 0x1a216734d0>"
      ]
     },
     "execution_count": 14,
     "metadata": {},
     "output_type": "execute_result"
    },
    {
     "data": {
      "image/png": "[encoded data removed]",
      "text/plain": [
       "<Figure size 432x288 with 1 Axes>"
      ]
     },
     "metadata": {
      "needs_background": "light"
     },
     "output_type": "display_data"
    }
   ],
   "source": [
    "sns.distplot(raw_data['hospital_beds']) #outliers are present, data is skewed"
   ]
  },
  {
   "cell_type": "code",
   "execution_count": 15,
   "metadata": {},
   "outputs": [],
   "source": [
    "raw_data['log_hospital_beds'] = np.log(raw_data['hospital_beds'])#applying log transform on hospital_beds and \n",
    "                                                                 #storing it in log_hospital_beds"
   ]
  },
  {
   "cell_type": "code",
   "execution_count": 16,
   "metadata": {},
   "outputs": [
    {
     "data": {
      "text/plain": [
       "<matplotlib.axes._subplots.AxesSubplot at 0x1a21658690>"
      ]
     },
     "execution_count": 16,
     "metadata": {},
     "output_type": "execute_result"
    },
    {
     "data": {
      "image/png": "[encoded data removed]",
      "text/plain": [
       "<Figure size 432x288 with 1 Axes>"
      ]
     },
     "metadata": {
      "needs_background": "light"
     },
     "output_type": "display_data"
    }
   ],
   "source": [
    "sns.distplot(raw_data['log_hospital_beds']) #skewness is much lower"
   ]
  },
  {
   "cell_type": "code",
   "execution_count": 17,
   "metadata": {},
   "outputs": [
    {
     "data": {
      "text/plain": [
       "<matplotlib.axes._subplots.AxesSubplot at 0x1a218b4e90>"
      ]
     },
     "execution_count": 17,
     "metadata": {},
     "output_type": "execute_result"
    },
    {
     "data": {
      "image/png": "[encoded data removed]",
      "text/plain": [
       "<Figure size 432x288 with 1 Axes>"
      ]
     },
     "metadata": {
      "needs_background": "light"
     },
     "output_type": "display_data"
    }
   ],
   "source": [
    "sns.distplot(raw_data['graduates']) #normally distributed, negligble skewness"
   ]
  },
  {
   "cell_type": "code",
   "execution_count": 18,
   "metadata": {},
   "outputs": [
    {
     "data": {
      "text/plain": [
       "<matplotlib.axes._subplots.AxesSubplot at 0x1a219e5110>"
      ]
     },
     "execution_count": 18,
     "metadata": {},
     "output_type": "execute_result"
    },
    {
     "data": {
      "image/png": "[encoded data removed]",
      "text/plain": [
       "<Figure size 432x288 with 1 Axes>"
      ]
     },
     "metadata": {
      "needs_background": "light"
     },
     "output_type": "display_data"
    }
   ],
   "source": [
    "sns.distplot(raw_data['labor']) #outliers are present, data is skewed"
   ]
  },
  {
   "cell_type": "code",
   "execution_count": 19,
   "metadata": {},
   "outputs": [],
   "source": [
    "raw_data['log_labor'] = np.log(raw_data['labor'])"
   ]
  },
  {
   "cell_type": "code",
   "execution_count": 20,
   "metadata": {},
   "outputs": [
    {
     "data": {
      "text/plain": [
       "<matplotlib.axes._subplots.AxesSubplot at 0x1a21afa810>"
      ]
     },
     "execution_count": 20,
     "metadata": {},
     "output_type": "execute_result"
    },
    {
     "data": {
      "image/png": "[encoded data removed]",
      "text/plain": [
       "<Figure size 432x288 with 1 Axes>"
      ]
     },
     "metadata": {
      "needs_background": "light"
     },
     "output_type": "display_data"
    }
   ],
   "source": [
    "sns.distplot(raw_data['log_labor']) #skewness is much lower"
   ]
  },
  {
   "cell_type": "code",
   "execution_count": 21,
   "metadata": {},
   "outputs": [
    {
     "data": {
      "text/plain": [
       "<matplotlib.axes._subplots.AxesSubplot at 0x1a21c2e090>"
      ]
     },
     "execution_count": 21,
     "metadata": {},
     "output_type": "execute_result"
    },
    {
     "data": {
      "image/png": "[encoded data removed]",
      "text/plain": [
       "<Figure size 432x288 with 1 Axes>"
      ]
     },
     "metadata": {
      "needs_background": "light"
     },
     "output_type": "display_data"
    }
   ],
   "source": [
    "sns.distplot(raw_data['income']) #outliers are present, data is skewed"
   ]
  },
  {
   "cell_type": "code",
   "execution_count": 22,
   "metadata": {},
   "outputs": [],
   "source": [
    "raw_data['log_income'] = np.log(raw_data['income'])"
   ]
  },
  {
   "cell_type": "code",
   "execution_count": 23,
   "metadata": {},
   "outputs": [
    {
     "data": {
      "text/plain": [
       "<matplotlib.axes._subplots.AxesSubplot at 0x1a21c27950>"
      ]
     },
     "execution_count": 23,
     "metadata": {},
     "output_type": "execute_result"
    },
    {
     "data": {
      "image/png": "[encoded data removed]",
      "text/plain": [
       "<Figure size 432x288 with 1 Axes>"
      ]
     },
     "metadata": {
      "needs_background": "light"
     },
     "output_type": "display_data"
    }
   ],
   "source": [
    "sns.distplot(raw_data['log_income']) #skewness is much lower"
   ]
  },
  {
   "cell_type": "code",
   "execution_count": 24,
   "metadata": {},
   "outputs": [
    {
     "data": {
      "text/plain": [
       "<matplotlib.axes._subplots.AxesSubplot at 0x1a21eada10>"
      ]
     },
     "execution_count": 24,
     "metadata": {},
     "output_type": "execute_result"
    },
    {
     "data": {
      "image/png": "[encoded data removed]",
      "text/plain": [
       "<Figure size 432x288 with 1 Axes>"
      ]
     },
     "metadata": {
      "needs_background": "light"
     },
     "output_type": "display_data"
    }
   ],
   "source": [
    "sns.distplot(raw_data['region'])"
   ]
  },
  {
   "cell_type": "code",
   "execution_count": 25,
   "metadata": {},
   "outputs": [
    {
     "data": {
      "text/html": [
       "<div>\n",
       "<style scoped>\n",
       "    .dataframe tbody tr th:only-of-type {\n",
       "        vertical-align: middle;\n",
       "    }\n",
       "\n",
       "    .dataframe tbody tr th {\n",
       "        vertical-align: top;\n",
       "    }\n",
       "\n",
       "    .dataframe thead th {\n",
       "        text-align: right;\n",
       "    }\n",
       "</style>\n",
       "<table border=\"1\" class=\"dataframe\">\n",
       "  <thead>\n",
       "    <tr style=\"text-align: right;\">\n",
       "      <th></th>\n",
       "      <th>land_area</th>\n",
       "      <th>percent_city</th>\n",
       "      <th>percent_senior</th>\n",
       "      <th>physicians</th>\n",
       "      <th>hospital_beds</th>\n",
       "      <th>graduates</th>\n",
       "      <th>labor</th>\n",
       "      <th>income</th>\n",
       "      <th>region</th>\n",
       "      <th>crime_rate</th>\n",
       "      <th>log_land_area</th>\n",
       "      <th>log_physicians</th>\n",
       "      <th>log_hospital_beds</th>\n",
       "      <th>log_labor</th>\n",
       "      <th>log_income</th>\n",
       "    </tr>\n",
       "  </thead>\n",
       "  <tbody>\n",
       "    <tr>\n",
       "      <td>0</td>\n",
       "      <td>1384</td>\n",
       "      <td>78.1</td>\n",
       "      <td>12.3</td>\n",
       "      <td>25627</td>\n",
       "      <td>69678</td>\n",
       "      <td>50.1</td>\n",
       "      <td>4083.9</td>\n",
       "      <td>72100</td>\n",
       "      <td>1</td>\n",
       "      <td>75.554916</td>\n",
       "      <td>7.232733</td>\n",
       "      <td>10.151402</td>\n",
       "      <td>11.151640</td>\n",
       "      <td>8.314808</td>\n",
       "      <td>11.185809</td>\n",
       "    </tr>\n",
       "    <tr>\n",
       "      <td>1</td>\n",
       "      <td>3719</td>\n",
       "      <td>43.9</td>\n",
       "      <td>9.4</td>\n",
       "      <td>13326</td>\n",
       "      <td>43292</td>\n",
       "      <td>53.9</td>\n",
       "      <td>3305.9</td>\n",
       "      <td>54542</td>\n",
       "      <td>2</td>\n",
       "      <td>56.029927</td>\n",
       "      <td>8.221210</td>\n",
       "      <td>9.497472</td>\n",
       "      <td>10.675723</td>\n",
       "      <td>8.103464</td>\n",
       "      <td>10.906726</td>\n",
       "    </tr>\n",
       "    <tr>\n",
       "      <td>2</td>\n",
       "      <td>3553</td>\n",
       "      <td>37.4</td>\n",
       "      <td>10.7</td>\n",
       "      <td>9724</td>\n",
       "      <td>33731</td>\n",
       "      <td>50.6</td>\n",
       "      <td>2066.3</td>\n",
       "      <td>33216</td>\n",
       "      <td>1</td>\n",
       "      <td>41.322904</td>\n",
       "      <td>8.175548</td>\n",
       "      <td>9.182352</td>\n",
       "      <td>10.426173</td>\n",
       "      <td>7.633515</td>\n",
       "      <td>10.410787</td>\n",
       "    </tr>\n",
       "    <tr>\n",
       "      <td>3</td>\n",
       "      <td>3916</td>\n",
       "      <td>29.9</td>\n",
       "      <td>8.8</td>\n",
       "      <td>6402</td>\n",
       "      <td>24167</td>\n",
       "      <td>52.2</td>\n",
       "      <td>1966.7</td>\n",
       "      <td>32906</td>\n",
       "      <td>2</td>\n",
       "      <td>67.383524</td>\n",
       "      <td>8.272826</td>\n",
       "      <td>8.764366</td>\n",
       "      <td>10.092743</td>\n",
       "      <td>7.584112</td>\n",
       "      <td>10.401410</td>\n",
       "    </tr>\n",
       "    <tr>\n",
       "      <td>4</td>\n",
       "      <td>2480</td>\n",
       "      <td>31.5</td>\n",
       "      <td>10.5</td>\n",
       "      <td>8502</td>\n",
       "      <td>16751</td>\n",
       "      <td>66.1</td>\n",
       "      <td>1514.5</td>\n",
       "      <td>26573</td>\n",
       "      <td>4</td>\n",
       "      <td>80.189189</td>\n",
       "      <td>7.816014</td>\n",
       "      <td>9.048057</td>\n",
       "      <td>9.726213</td>\n",
       "      <td>7.322841</td>\n",
       "      <td>10.187651</td>\n",
       "    </tr>\n",
       "  </tbody>\n",
       "</table>\n",
       "</div>"
      ],
      "text/plain": [
       "   land_area  percent_city  percent_senior  physicians  hospital_beds  \\\n",
       "0       1384          78.1            12.3       25627          69678   \n",
       "1       3719          43.9             9.4       13326          43292   \n",
       "2       3553          37.4            10.7        9724          33731   \n",
       "3       3916          29.9             8.8        6402          24167   \n",
       "4       2480          31.5            10.5        8502          16751   \n",
       "\n",
       "   graduates   labor  income  region  crime_rate  log_land_area  \\\n",
       "0       50.1  4083.9   72100       1   75.554916       7.232733   \n",
       "1       53.9  3305.9   54542       2   56.029927       8.221210   \n",
       "2       50.6  2066.3   33216       1   41.322904       8.175548   \n",
       "3       52.2  1966.7   32906       2   67.383524       8.272826   \n",
       "4       66.1  1514.5   26573       4   80.189189       7.816014   \n",
       "\n",
       "   log_physicians  log_hospital_beds  log_labor  log_income  \n",
       "0       10.151402          11.151640   8.314808   11.185809  \n",
       "1        9.497472          10.675723   8.103464   10.906726  \n",
       "2        9.182352          10.426173   7.633515   10.410787  \n",
       "3        8.764366          10.092743   7.584112   10.401410  \n",
       "4        9.048057           9.726213   7.322841   10.187651  "
      ]
     },
     "execution_count": 25,
     "metadata": {},
     "output_type": "execute_result"
    }
   ],
   "source": [
    "raw_data.head() #new log columns have been added, which will be used as our predictors"
   ]
  },
  {
   "cell_type": "code",
   "execution_count": 26,
   "metadata": {},
   "outputs": [],
   "source": [
    "raw_data.drop(['land_area','physicians', 'hospital_beds', 'labor', 'income'], axis = 1, inplace = True)"
   ]
  },
  {
   "cell_type": "code",
   "execution_count": 27,
   "metadata": {},
   "outputs": [],
   "source": [
    "data_cleaned = raw_data.copy()"
   ]
  },
  {
   "cell_type": "code",
   "execution_count": 28,
   "metadata": {},
   "outputs": [
    {
     "data": {
      "text/html": [
       "<div>\n",
       "<style scoped>\n",
       "    .dataframe tbody tr th:only-of-type {\n",
       "        vertical-align: middle;\n",
       "    }\n",
       "\n",
       "    .dataframe tbody tr th {\n",
       "        vertical-align: top;\n",
       "    }\n",
       "\n",
       "    .dataframe thead th {\n",
       "        text-align: right;\n",
       "    }\n",
       "</style>\n",
       "<table border=\"1\" class=\"dataframe\">\n",
       "  <thead>\n",
       "    <tr style=\"text-align: right;\">\n",
       "      <th></th>\n",
       "      <th>percent_city</th>\n",
       "      <th>percent_senior</th>\n",
       "      <th>graduates</th>\n",
       "      <th>region</th>\n",
       "      <th>crime_rate</th>\n",
       "      <th>log_land_area</th>\n",
       "      <th>log_physicians</th>\n",
       "      <th>log_hospital_beds</th>\n",
       "      <th>log_labor</th>\n",
       "      <th>log_income</th>\n",
       "    </tr>\n",
       "  </thead>\n",
       "  <tbody>\n",
       "    <tr>\n",
       "      <td>0</td>\n",
       "      <td>78.1</td>\n",
       "      <td>12.3</td>\n",
       "      <td>50.1</td>\n",
       "      <td>1</td>\n",
       "      <td>75.554916</td>\n",
       "      <td>7.232733</td>\n",
       "      <td>10.151402</td>\n",
       "      <td>11.151640</td>\n",
       "      <td>8.314808</td>\n",
       "      <td>11.185809</td>\n",
       "    </tr>\n",
       "    <tr>\n",
       "      <td>1</td>\n",
       "      <td>43.9</td>\n",
       "      <td>9.4</td>\n",
       "      <td>53.9</td>\n",
       "      <td>2</td>\n",
       "      <td>56.029927</td>\n",
       "      <td>8.221210</td>\n",
       "      <td>9.497472</td>\n",
       "      <td>10.675723</td>\n",
       "      <td>8.103464</td>\n",
       "      <td>10.906726</td>\n",
       "    </tr>\n",
       "    <tr>\n",
       "      <td>2</td>\n",
       "      <td>37.4</td>\n",
       "      <td>10.7</td>\n",
       "      <td>50.6</td>\n",
       "      <td>1</td>\n",
       "      <td>41.322904</td>\n",
       "      <td>8.175548</td>\n",
       "      <td>9.182352</td>\n",
       "      <td>10.426173</td>\n",
       "      <td>7.633515</td>\n",
       "      <td>10.410787</td>\n",
       "    </tr>\n",
       "    <tr>\n",
       "      <td>3</td>\n",
       "      <td>29.9</td>\n",
       "      <td>8.8</td>\n",
       "      <td>52.2</td>\n",
       "      <td>2</td>\n",
       "      <td>67.383524</td>\n",
       "      <td>8.272826</td>\n",
       "      <td>8.764366</td>\n",
       "      <td>10.092743</td>\n",
       "      <td>7.584112</td>\n",
       "      <td>10.401410</td>\n",
       "    </tr>\n",
       "    <tr>\n",
       "      <td>4</td>\n",
       "      <td>31.5</td>\n",
       "      <td>10.5</td>\n",
       "      <td>66.1</td>\n",
       "      <td>4</td>\n",
       "      <td>80.189189</td>\n",
       "      <td>7.816014</td>\n",
       "      <td>9.048057</td>\n",
       "      <td>9.726213</td>\n",
       "      <td>7.322841</td>\n",
       "      <td>10.187651</td>\n",
       "    </tr>\n",
       "  </tbody>\n",
       "</table>\n",
       "</div>"
      ],
      "text/plain": [
       "   percent_city  percent_senior  graduates  region  crime_rate  log_land_area  \\\n",
       "0          78.1            12.3       50.1       1   75.554916       7.232733   \n",
       "1          43.9             9.4       53.9       2   56.029927       8.221210   \n",
       "2          37.4            10.7       50.6       1   41.322904       8.175548   \n",
       "3          29.9             8.8       52.2       2   67.383524       8.272826   \n",
       "4          31.5            10.5       66.1       4   80.189189       7.816014   \n",
       "\n",
       "   log_physicians  log_hospital_beds  log_labor  log_income  \n",
       "0       10.151402          11.151640   8.314808   11.185809  \n",
       "1        9.497472          10.675723   8.103464   10.906726  \n",
       "2        9.182352          10.426173   7.633515   10.410787  \n",
       "3        8.764366          10.092743   7.584112   10.401410  \n",
       "4        9.048057           9.726213   7.322841   10.187651  "
      ]
     },
     "execution_count": 28,
     "metadata": {},
     "output_type": "execute_result"
    }
   ],
   "source": [
    "data_cleaned.head()"
   ]
  },
  {
   "cell_type": "code",
   "execution_count": 29,
   "metadata": {},
   "outputs": [
    {
     "data": {
      "text/html": [
       "<div>\n",
       "<style scoped>\n",
       "    .dataframe tbody tr th:only-of-type {\n",
       "        vertical-align: middle;\n",
       "    }\n",
       "\n",
       "    .dataframe tbody tr th {\n",
       "        vertical-align: top;\n",
       "    }\n",
       "\n",
       "    .dataframe thead th {\n",
       "        text-align: right;\n",
       "    }\n",
       "</style>\n",
       "<table border=\"1\" class=\"dataframe\">\n",
       "  <thead>\n",
       "    <tr style=\"text-align: right;\">\n",
       "      <th></th>\n",
       "      <th>log_land_area</th>\n",
       "      <th>percent_city</th>\n",
       "      <th>percent_senior</th>\n",
       "      <th>log_physicians</th>\n",
       "      <th>log_hospital_beds</th>\n",
       "      <th>graduates</th>\n",
       "      <th>log_labor</th>\n",
       "      <th>log_income</th>\n",
       "      <th>region</th>\n",
       "      <th>crime_rate</th>\n",
       "    </tr>\n",
       "  </thead>\n",
       "  <tbody>\n",
       "    <tr>\n",
       "      <td>0</td>\n",
       "      <td>7.232733</td>\n",
       "      <td>78.1</td>\n",
       "      <td>12.3</td>\n",
       "      <td>10.151402</td>\n",
       "      <td>11.151640</td>\n",
       "      <td>50.1</td>\n",
       "      <td>8.314808</td>\n",
       "      <td>11.185809</td>\n",
       "      <td>1</td>\n",
       "      <td>75.554916</td>\n",
       "    </tr>\n",
       "    <tr>\n",
       "      <td>1</td>\n",
       "      <td>8.221210</td>\n",
       "      <td>43.9</td>\n",
       "      <td>9.4</td>\n",
       "      <td>9.497472</td>\n",
       "      <td>10.675723</td>\n",
       "      <td>53.9</td>\n",
       "      <td>8.103464</td>\n",
       "      <td>10.906726</td>\n",
       "      <td>2</td>\n",
       "      <td>56.029927</td>\n",
       "    </tr>\n",
       "    <tr>\n",
       "      <td>2</td>\n",
       "      <td>8.175548</td>\n",
       "      <td>37.4</td>\n",
       "      <td>10.7</td>\n",
       "      <td>9.182352</td>\n",
       "      <td>10.426173</td>\n",
       "      <td>50.6</td>\n",
       "      <td>7.633515</td>\n",
       "      <td>10.410787</td>\n",
       "      <td>1</td>\n",
       "      <td>41.322904</td>\n",
       "    </tr>\n",
       "    <tr>\n",
       "      <td>3</td>\n",
       "      <td>8.272826</td>\n",
       "      <td>29.9</td>\n",
       "      <td>8.8</td>\n",
       "      <td>8.764366</td>\n",
       "      <td>10.092743</td>\n",
       "      <td>52.2</td>\n",
       "      <td>7.584112</td>\n",
       "      <td>10.401410</td>\n",
       "      <td>2</td>\n",
       "      <td>67.383524</td>\n",
       "    </tr>\n",
       "    <tr>\n",
       "      <td>4</td>\n",
       "      <td>7.816014</td>\n",
       "      <td>31.5</td>\n",
       "      <td>10.5</td>\n",
       "      <td>9.048057</td>\n",
       "      <td>9.726213</td>\n",
       "      <td>66.1</td>\n",
       "      <td>7.322841</td>\n",
       "      <td>10.187651</td>\n",
       "      <td>4</td>\n",
       "      <td>80.189189</td>\n",
       "    </tr>\n",
       "    <tr>\n",
       "      <td>...</td>\n",
       "      <td>...</td>\n",
       "      <td>...</td>\n",
       "      <td>...</td>\n",
       "      <td>...</td>\n",
       "      <td>...</td>\n",
       "      <td>...</td>\n",
       "      <td>...</td>\n",
       "      <td>...</td>\n",
       "      <td>...</td>\n",
       "      <td>...</td>\n",
       "    </tr>\n",
       "    <tr>\n",
       "      <td>94</td>\n",
       "      <td>7.320527</td>\n",
       "      <td>38.7</td>\n",
       "      <td>10.7</td>\n",
       "      <td>5.852202</td>\n",
       "      <td>6.996681</td>\n",
       "      <td>50.4</td>\n",
       "      <td>4.845761</td>\n",
       "      <td>7.280697</td>\n",
       "      <td>4</td>\n",
       "      <td>70.661017</td>\n",
       "    </tr>\n",
       "    <tr>\n",
       "      <td>95</td>\n",
       "      <td>7.341484</td>\n",
       "      <td>39.6</td>\n",
       "      <td>8.1</td>\n",
       "      <td>5.068904</td>\n",
       "      <td>6.175867</td>\n",
       "      <td>30.3</td>\n",
       "      <td>4.389499</td>\n",
       "      <td>6.645091</td>\n",
       "      <td>3</td>\n",
       "      <td>36.362069</td>\n",
       "    </tr>\n",
       "    <tr>\n",
       "      <td>96</td>\n",
       "      <td>6.918695</td>\n",
       "      <td>37.8</td>\n",
       "      <td>10.5</td>\n",
       "      <td>5.575949</td>\n",
       "      <td>6.871091</td>\n",
       "      <td>70.7</td>\n",
       "      <td>4.534748</td>\n",
       "      <td>7.198184</td>\n",
       "      <td>3</td>\n",
       "      <td>60.163090</td>\n",
       "    </tr>\n",
       "    <tr>\n",
       "      <td>97</td>\n",
       "      <td>6.700731</td>\n",
       "      <td>13.4</td>\n",
       "      <td>10.9</td>\n",
       "      <td>5.916202</td>\n",
       "      <td>8.379080</td>\n",
       "      <td>58.0</td>\n",
       "      <td>4.574711</td>\n",
       "      <td>7.370860</td>\n",
       "      <td>1</td>\n",
       "      <td>36.327586</td>\n",
       "    </tr>\n",
       "    <tr>\n",
       "      <td>98</td>\n",
       "      <td>6.483107</td>\n",
       "      <td>28.8</td>\n",
       "      <td>3.9</td>\n",
       "      <td>4.941642</td>\n",
       "      <td>7.167038</td>\n",
       "      <td>55.1</td>\n",
       "      <td>4.203199</td>\n",
       "      <td>7.045777</td>\n",
       "      <td>3</td>\n",
       "      <td>68.761905</td>\n",
       "    </tr>\n",
       "  </tbody>\n",
       "</table>\n",
       "<p>99 rows × 10 columns</p>\n",
       "</div>"
      ],
      "text/plain": [
       "    log_land_area  percent_city  percent_senior  log_physicians  \\\n",
       "0        7.232733          78.1            12.3       10.151402   \n",
       "1        8.221210          43.9             9.4        9.497472   \n",
       "2        8.175548          37.4            10.7        9.182352   \n",
       "3        8.272826          29.9             8.8        8.764366   \n",
       "4        7.816014          31.5            10.5        9.048057   \n",
       "..            ...           ...             ...             ...   \n",
       "94       7.320527          38.7            10.7        5.852202   \n",
       "95       7.341484          39.6             8.1        5.068904   \n",
       "96       6.918695          37.8            10.5        5.575949   \n",
       "97       6.700731          13.4            10.9        5.916202   \n",
       "98       6.483107          28.8             3.9        4.941642   \n",
       "\n",
       "    log_hospital_beds  graduates  log_labor  log_income  region  crime_rate  \n",
       "0           11.151640       50.1   8.314808   11.185809       1   75.554916  \n",
       "1           10.675723       53.9   8.103464   10.906726       2   56.029927  \n",
       "2           10.426173       50.6   7.633515   10.410787       1   41.322904  \n",
       "3           10.092743       52.2   7.584112   10.401410       2   67.383524  \n",
       "4            9.726213       66.1   7.322841   10.187651       4   80.189189  \n",
       "..                ...        ...        ...         ...     ...         ...  \n",
       "94           6.996681       50.4   4.845761    7.280697       4   70.661017  \n",
       "95           6.175867       30.3   4.389499    6.645091       3   36.362069  \n",
       "96           6.871091       70.7   4.534748    7.198184       3   60.163090  \n",
       "97           8.379080       58.0   4.574711    7.370860       1   36.327586  \n",
       "98           7.167038       55.1   4.203199    7.045777       3   68.761905  \n",
       "\n",
       "[99 rows x 10 columns]"
      ]
     },
     "execution_count": 29,
     "metadata": {},
     "output_type": "execute_result"
    }
   ],
   "source": [
    "data_cleaned[['log_land_area', 'percent_city', 'percent_senior', 'log_physicians', 'log_hospital_beds', \n",
    "              'graduates', 'log_labor', 'log_income', 'region', 'crime_rate']]"
   ]
  },
  {
   "cell_type": "markdown",
   "metadata": {},
   "source": [
    "DEFINING OUR PREDICTOR AND TARGET"
   ]
  },
  {
   "cell_type": "code",
   "execution_count": 30,
   "metadata": {},
   "outputs": [],
   "source": [
    "predictor = data_cleaned.copy()"
   ]
  },
  {
   "cell_type": "code",
   "execution_count": 31,
   "metadata": {},
   "outputs": [],
   "source": [
    "target = predictor.crime_rate"
   ]
  },
  {
   "cell_type": "code",
   "execution_count": 32,
   "metadata": {},
   "outputs": [],
   "source": [
    "predictor.drop(['crime_rate'], axis = 1, inplace = True)"
   ]
  },
  {
   "cell_type": "code",
   "execution_count": 33,
   "metadata": {},
   "outputs": [
    {
     "data": {
      "text/html": [
       "<div>\n",
       "<style scoped>\n",
       "    .dataframe tbody tr th:only-of-type {\n",
       "        vertical-align: middle;\n",
       "    }\n",
       "\n",
       "    .dataframe tbody tr th {\n",
       "        vertical-align: top;\n",
       "    }\n",
       "\n",
       "    .dataframe thead th {\n",
       "        text-align: right;\n",
       "    }\n",
       "</style>\n",
       "<table border=\"1\" class=\"dataframe\">\n",
       "  <thead>\n",
       "    <tr style=\"text-align: right;\">\n",
       "      <th></th>\n",
       "      <th>percent_city</th>\n",
       "      <th>percent_senior</th>\n",
       "      <th>graduates</th>\n",
       "      <th>region</th>\n",
       "      <th>log_land_area</th>\n",
       "      <th>log_physicians</th>\n",
       "      <th>log_hospital_beds</th>\n",
       "      <th>log_labor</th>\n",
       "      <th>log_income</th>\n",
       "    </tr>\n",
       "  </thead>\n",
       "  <tbody>\n",
       "    <tr>\n",
       "      <td>0</td>\n",
       "      <td>78.1</td>\n",
       "      <td>12.3</td>\n",
       "      <td>50.1</td>\n",
       "      <td>1</td>\n",
       "      <td>7.232733</td>\n",
       "      <td>10.151402</td>\n",
       "      <td>11.151640</td>\n",
       "      <td>8.314808</td>\n",
       "      <td>11.185809</td>\n",
       "    </tr>\n",
       "    <tr>\n",
       "      <td>1</td>\n",
       "      <td>43.9</td>\n",
       "      <td>9.4</td>\n",
       "      <td>53.9</td>\n",
       "      <td>2</td>\n",
       "      <td>8.221210</td>\n",
       "      <td>9.497472</td>\n",
       "      <td>10.675723</td>\n",
       "      <td>8.103464</td>\n",
       "      <td>10.906726</td>\n",
       "    </tr>\n",
       "    <tr>\n",
       "      <td>2</td>\n",
       "      <td>37.4</td>\n",
       "      <td>10.7</td>\n",
       "      <td>50.6</td>\n",
       "      <td>1</td>\n",
       "      <td>8.175548</td>\n",
       "      <td>9.182352</td>\n",
       "      <td>10.426173</td>\n",
       "      <td>7.633515</td>\n",
       "      <td>10.410787</td>\n",
       "    </tr>\n",
       "    <tr>\n",
       "      <td>3</td>\n",
       "      <td>29.9</td>\n",
       "      <td>8.8</td>\n",
       "      <td>52.2</td>\n",
       "      <td>2</td>\n",
       "      <td>8.272826</td>\n",
       "      <td>8.764366</td>\n",
       "      <td>10.092743</td>\n",
       "      <td>7.584112</td>\n",
       "      <td>10.401410</td>\n",
       "    </tr>\n",
       "    <tr>\n",
       "      <td>4</td>\n",
       "      <td>31.5</td>\n",
       "      <td>10.5</td>\n",
       "      <td>66.1</td>\n",
       "      <td>4</td>\n",
       "      <td>7.816014</td>\n",
       "      <td>9.048057</td>\n",
       "      <td>9.726213</td>\n",
       "      <td>7.322841</td>\n",
       "      <td>10.187651</td>\n",
       "    </tr>\n",
       "  </tbody>\n",
       "</table>\n",
       "</div>"
      ],
      "text/plain": [
       "   percent_city  percent_senior  graduates  region  log_land_area  \\\n",
       "0          78.1            12.3       50.1       1       7.232733   \n",
       "1          43.9             9.4       53.9       2       8.221210   \n",
       "2          37.4            10.7       50.6       1       8.175548   \n",
       "3          29.9             8.8       52.2       2       8.272826   \n",
       "4          31.5            10.5       66.1       4       7.816014   \n",
       "\n",
       "   log_physicians  log_hospital_beds  log_labor  log_income  \n",
       "0       10.151402          11.151640   8.314808   11.185809  \n",
       "1        9.497472          10.675723   8.103464   10.906726  \n",
       "2        9.182352          10.426173   7.633515   10.410787  \n",
       "3        8.764366          10.092743   7.584112   10.401410  \n",
       "4        9.048057           9.726213   7.322841   10.187651  "
      ]
     },
     "execution_count": 33,
     "metadata": {},
     "output_type": "execute_result"
    }
   ],
   "source": [
    "predictor.head()"
   ]
  },
  {
   "cell_type": "code",
   "execution_count": 34,
   "metadata": {},
   "outputs": [
    {
     "data": {
      "text/plain": [
       "0    75.554916\n",
       "1    56.029927\n",
       "2    41.322904\n",
       "3    67.383524\n",
       "4    80.189189\n",
       "Name: crime_rate, dtype: float64"
      ]
     },
     "execution_count": 34,
     "metadata": {},
     "output_type": "execute_result"
    }
   ],
   "source": [
    "target.head()"
   ]
  },
  {
   "cell_type": "markdown",
   "metadata": {},
   "source": [
    "SPLITTING OUR DATA INTO TRAIN AND VALID"
   ]
  },
  {
   "cell_type": "code",
   "execution_count": 35,
   "metadata": {},
   "outputs": [],
   "source": [
    "predictor_train, predictor_valid, target_train, target_valid = train_test_split(predictor, target, train_size = 0.8,\n",
    "                                                                             test_size = 0.2, random_state = 0)"
   ]
  },
  {
   "cell_type": "markdown",
   "metadata": {},
   "source": [
    "MAKING PREDICTIONS"
   ]
  },
  {
   "cell_type": "code",
   "execution_count": 36,
   "metadata": {},
   "outputs": [],
   "source": [
    "from xgboost import XGBRegressor\n",
    "model_1 = XGBRegressor() #importing the XGBRegressor library for Supervised ML"
   ]
  },
  {
   "cell_type": "code",
   "execution_count": 37,
   "metadata": {},
   "outputs": [
    {
     "name": "stdout",
     "output_type": "stream",
     "text": [
      "[17:44:29] WARNING: src/objective/regression_obj.cu:152: reg:linear is now deprecated in favor of reg:squarederror.\n"
     ]
    },
    {
     "name": "stderr",
     "output_type": "stream",
     "text": [
      "/Users/aryamonani/opt/anaconda3/lib/python3.7/site-packages/xgboost/core.py:587: FutureWarning: Series.base is deprecated and will be removed in a future version\n",
      "  if getattr(data, 'base', None) is not None and \\\n"
     ]
    },
    {
     "data": {
      "text/plain": [
       "XGBRegressor(base_score=0.5, booster='gbtree', colsample_bylevel=1,\n",
       "             colsample_bynode=1, colsample_bytree=1, gamma=0,\n",
       "             importance_type='gain', learning_rate=0.1, max_delta_step=0,\n",
       "             max_depth=3, min_child_weight=1, missing=None, n_estimators=100,\n",
       "             n_jobs=1, nthread=None, objective='reg:linear', random_state=0,\n",
       "             reg_alpha=0, reg_lambda=1, scale_pos_weight=1, seed=None,\n",
       "             silent=None, subsample=1, verbosity=1)"
      ]
     },
     "execution_count": 37,
     "metadata": {},
     "output_type": "execute_result"
    }
   ],
   "source": [
    "model_1.fit(predictor_train, target_train) #training the data"
   ]
  },
  {
   "cell_type": "code",
   "execution_count": 38,
   "metadata": {},
   "outputs": [],
   "source": [
    "prediction_1 = model_1.predict(predictor_valid) #getting predictions"
   ]
  },
  {
   "cell_type": "code",
   "execution_count": 39,
   "metadata": {},
   "outputs": [],
   "source": [
    "mae_1 = mean_absolute_error(target_valid, prediction_1)"
   ]
  },
  {
   "cell_type": "code",
   "execution_count": 40,
   "metadata": {},
   "outputs": [
    {
     "data": {
      "text/plain": [
       "9.440219285041184"
      ]
     },
     "execution_count": 40,
     "metadata": {},
     "output_type": "execute_result"
    }
   ],
   "source": [
    "mae_1"
   ]
  },
  {
   "cell_type": "code",
   "execution_count": 41,
   "metadata": {},
   "outputs": [
    {
     "data": {
      "text/plain": [
       "array([50.345642, 36.695404, 64.41582 , 40.287857, 38.017616, 40.466164,\n",
       "       67.068115, 69.49948 , 63.888733, 72.07018 , 65.68154 , 51.614323,\n",
       "       50.70521 , 65.5014  , 61.586388, 57.84284 , 54.764317, 47.73927 ,\n",
       "       62.006565, 58.94272 ], dtype=float32)"
      ]
     },
     "execution_count": 41,
     "metadata": {},
     "output_type": "execute_result"
    }
   ],
   "source": [
    "prediction_1"
   ]
  },
  {
   "cell_type": "code",
   "execution_count": 42,
   "metadata": {},
   "outputs": [],
   "source": [
    "output = pd.DataFrame({'Crime_rate' : target_valid,\n",
    "                       'crime_rate' : prediction_1})"
   ]
  },
  {
   "cell_type": "code",
   "execution_count": 43,
   "metadata": {},
   "outputs": [
    {
     "data": {
      "text/html": [
       "<div>\n",
       "<style scoped>\n",
       "    .dataframe tbody tr th:only-of-type {\n",
       "        vertical-align: middle;\n",
       "    }\n",
       "\n",
       "    .dataframe tbody tr th {\n",
       "        vertical-align: top;\n",
       "    }\n",
       "\n",
       "    .dataframe thead th {\n",
       "        text-align: right;\n",
       "    }\n",
       "</style>\n",
       "<table border=\"1\" class=\"dataframe\">\n",
       "  <thead>\n",
       "    <tr style=\"text-align: right;\">\n",
       "      <th></th>\n",
       "      <th>Crime_rate</th>\n",
       "      <th>crime_rate</th>\n",
       "    </tr>\n",
       "  </thead>\n",
       "  <tbody>\n",
       "    <tr>\n",
       "      <td>26</td>\n",
       "      <td>51.689694</td>\n",
       "      <td>50.345642</td>\n",
       "    </tr>\n",
       "    <tr>\n",
       "      <td>86</td>\n",
       "      <td>38.242647</td>\n",
       "      <td>36.695404</td>\n",
       "    </tr>\n",
       "    <tr>\n",
       "      <td>2</td>\n",
       "      <td>41.322904</td>\n",
       "      <td>64.415817</td>\n",
       "    </tr>\n",
       "    <tr>\n",
       "      <td>55</td>\n",
       "      <td>58.790043</td>\n",
       "      <td>40.287857</td>\n",
       "    </tr>\n",
       "    <tr>\n",
       "      <td>75</td>\n",
       "      <td>36.473856</td>\n",
       "      <td>38.017616</td>\n",
       "    </tr>\n",
       "    <tr>\n",
       "      <td>92</td>\n",
       "      <td>53.681275</td>\n",
       "      <td>40.466164</td>\n",
       "    </tr>\n",
       "    <tr>\n",
       "      <td>16</td>\n",
       "      <td>64.678986</td>\n",
       "      <td>67.068115</td>\n",
       "    </tr>\n",
       "    <tr>\n",
       "      <td>73</td>\n",
       "      <td>56.061290</td>\n",
       "      <td>69.499481</td>\n",
       "    </tr>\n",
       "    <tr>\n",
       "      <td>54</td>\n",
       "      <td>53.758547</td>\n",
       "      <td>63.888733</td>\n",
       "    </tr>\n",
       "    <tr>\n",
       "      <td>94</td>\n",
       "      <td>70.661017</td>\n",
       "      <td>72.070183</td>\n",
       "    </tr>\n",
       "    <tr>\n",
       "      <td>53</td>\n",
       "      <td>80.942797</td>\n",
       "      <td>65.681541</td>\n",
       "    </tr>\n",
       "    <tr>\n",
       "      <td>91</td>\n",
       "      <td>64.912000</td>\n",
       "      <td>51.614323</td>\n",
       "    </tr>\n",
       "    <tr>\n",
       "      <td>78</td>\n",
       "      <td>41.976431</td>\n",
       "      <td>50.705212</td>\n",
       "    </tr>\n",
       "    <tr>\n",
       "      <td>13</td>\n",
       "      <td>63.198778</td>\n",
       "      <td>65.501404</td>\n",
       "    </tr>\n",
       "    <tr>\n",
       "      <td>7</td>\n",
       "      <td>64.878981</td>\n",
       "      <td>61.586388</td>\n",
       "    </tr>\n",
       "    <tr>\n",
       "      <td>30</td>\n",
       "      <td>45.143411</td>\n",
       "      <td>57.842838</td>\n",
       "    </tr>\n",
       "    <tr>\n",
       "      <td>22</td>\n",
       "      <td>61.151809</td>\n",
       "      <td>54.764317</td>\n",
       "    </tr>\n",
       "    <tr>\n",
       "      <td>24</td>\n",
       "      <td>56.550515</td>\n",
       "      <td>47.739269</td>\n",
       "    </tr>\n",
       "    <tr>\n",
       "      <td>33</td>\n",
       "      <td>64.984786</td>\n",
       "      <td>62.006565</td>\n",
       "    </tr>\n",
       "    <tr>\n",
       "      <td>8</td>\n",
       "      <td>30.509590</td>\n",
       "      <td>58.942719</td>\n",
       "    </tr>\n",
       "  </tbody>\n",
       "</table>\n",
       "</div>"
      ],
      "text/plain": [
       "    Crime_rate  crime_rate\n",
       "26   51.689694   50.345642\n",
       "86   38.242647   36.695404\n",
       "2    41.322904   64.415817\n",
       "55   58.790043   40.287857\n",
       "75   36.473856   38.017616\n",
       "92   53.681275   40.466164\n",
       "16   64.678986   67.068115\n",
       "73   56.061290   69.499481\n",
       "54   53.758547   63.888733\n",
       "94   70.661017   72.070183\n",
       "53   80.942797   65.681541\n",
       "91   64.912000   51.614323\n",
       "78   41.976431   50.705212\n",
       "13   63.198778   65.501404\n",
       "7    64.878981   61.586388\n",
       "30   45.143411   57.842838\n",
       "22   61.151809   54.764317\n",
       "24   56.550515   47.739269\n",
       "33   64.984786   62.006565\n",
       "8    30.509590   58.942719"
      ]
     },
     "execution_count": 43,
     "metadata": {},
     "output_type": "execute_result"
    }
   ],
   "source": [
    "output #as it can be seen the prediction is somewhat accurate.\n",
    "       #will try to make the model even more accurate."
   ]
  },
  {
   "cell_type": "code",
   "execution_count": 44,
   "metadata": {},
   "outputs": [
    {
     "name": "stderr",
     "output_type": "stream",
     "text": [
      "/Users/aryamonani/opt/anaconda3/lib/python3.7/site-packages/xgboost/core.py:587: FutureWarning: Series.base is deprecated and will be removed in a future version\n",
      "  if getattr(data, 'base', None) is not None and \\\n"
     ]
    },
    {
     "name": "stdout",
     "output_type": "stream",
     "text": [
      "[17:44:29] WARNING: src/objective/regression_obj.cu:152: reg:linear is now deprecated in favor of reg:squarederror.\n"
     ]
    },
    {
     "data": {
      "text/plain": [
       "XGBRegressor(base_score=0.5, booster='gbtree', colsample_bylevel=1,\n",
       "             colsample_bynode=1, colsample_bytree=1, gamma=0,\n",
       "             importance_type='gain', learning_rate=0.05, max_delta_step=0,\n",
       "             max_depth=3, min_child_weight=1, missing=None, n_estimators=1000,\n",
       "             n_jobs=1, nthread=None, objective='reg:linear', random_state=0,\n",
       "             reg_alpha=0, reg_lambda=1, scale_pos_weight=1, seed=None,\n",
       "             silent=None, subsample=1, verbosity=1)"
      ]
     },
     "execution_count": 44,
     "metadata": {},
     "output_type": "execute_result"
    }
   ],
   "source": [
    "model_2 = XGBRegressor(n_estimators=1000, learning_rate=0.05)\n",
    "model_2.fit(predictor_train, target_train)"
   ]
  },
  {
   "cell_type": "code",
   "execution_count": 45,
   "metadata": {},
   "outputs": [
    {
     "data": {
      "text/plain": [
       "1.930229301711559"
      ]
     },
     "execution_count": 45,
     "metadata": {},
     "output_type": "execute_result"
    }
   ],
   "source": [
    "prediction_2 = model_2.predict(predictor)\n",
    "mae_2 = mean_absolute_error(target, prediction_2)\n",
    "mae_2"
   ]
  },
  {
   "cell_type": "code",
   "execution_count": 46,
   "metadata": {},
   "outputs": [],
   "source": [
    "output_2 = pd.DataFrame({'Crime_rate' : target,\n",
    "                       'crime_rate' : prediction_2})"
   ]
  },
  {
   "cell_type": "code",
   "execution_count": 47,
   "metadata": {},
   "outputs": [
    {
     "data": {
      "text/html": [
       "<div>\n",
       "<style scoped>\n",
       "    .dataframe tbody tr th:only-of-type {\n",
       "        vertical-align: middle;\n",
       "    }\n",
       "\n",
       "    .dataframe tbody tr th {\n",
       "        vertical-align: top;\n",
       "    }\n",
       "\n",
       "    .dataframe thead th {\n",
       "        text-align: right;\n",
       "    }\n",
       "</style>\n",
       "<table border=\"1\" class=\"dataframe\">\n",
       "  <thead>\n",
       "    <tr style=\"text-align: right;\">\n",
       "      <th></th>\n",
       "      <th>Crime_rate</th>\n",
       "      <th>crime_rate</th>\n",
       "    </tr>\n",
       "  </thead>\n",
       "  <tbody>\n",
       "    <tr>\n",
       "      <td>0</td>\n",
       "      <td>75.554916</td>\n",
       "      <td>75.550919</td>\n",
       "    </tr>\n",
       "    <tr>\n",
       "      <td>1</td>\n",
       "      <td>56.029927</td>\n",
       "      <td>56.027180</td>\n",
       "    </tr>\n",
       "    <tr>\n",
       "      <td>2</td>\n",
       "      <td>41.322904</td>\n",
       "      <td>62.744431</td>\n",
       "    </tr>\n",
       "    <tr>\n",
       "      <td>3</td>\n",
       "      <td>67.383524</td>\n",
       "      <td>67.378738</td>\n",
       "    </tr>\n",
       "    <tr>\n",
       "      <td>4</td>\n",
       "      <td>80.189189</td>\n",
       "      <td>80.196800</td>\n",
       "    </tr>\n",
       "    <tr>\n",
       "      <td>...</td>\n",
       "      <td>...</td>\n",
       "      <td>...</td>\n",
       "    </tr>\n",
       "    <tr>\n",
       "      <td>94</td>\n",
       "      <td>70.661017</td>\n",
       "      <td>73.959183</td>\n",
       "    </tr>\n",
       "    <tr>\n",
       "      <td>95</td>\n",
       "      <td>36.362069</td>\n",
       "      <td>36.360893</td>\n",
       "    </tr>\n",
       "    <tr>\n",
       "      <td>96</td>\n",
       "      <td>60.163090</td>\n",
       "      <td>60.173222</td>\n",
       "    </tr>\n",
       "    <tr>\n",
       "      <td>97</td>\n",
       "      <td>36.327586</td>\n",
       "      <td>36.321911</td>\n",
       "    </tr>\n",
       "    <tr>\n",
       "      <td>98</td>\n",
       "      <td>68.761905</td>\n",
       "      <td>68.764374</td>\n",
       "    </tr>\n",
       "  </tbody>\n",
       "</table>\n",
       "<p>99 rows × 2 columns</p>\n",
       "</div>"
      ],
      "text/plain": [
       "    Crime_rate  crime_rate\n",
       "0    75.554916   75.550919\n",
       "1    56.029927   56.027180\n",
       "2    41.322904   62.744431\n",
       "3    67.383524   67.378738\n",
       "4    80.189189   80.196800\n",
       "..         ...         ...\n",
       "94   70.661017   73.959183\n",
       "95   36.362069   36.360893\n",
       "96   60.163090   60.173222\n",
       "97   36.327586   36.321911\n",
       "98   68.761905   68.764374\n",
       "\n",
       "[99 rows x 2 columns]"
      ]
     },
     "execution_count": 47,
     "metadata": {},
     "output_type": "execute_result"
    }
   ],
   "source": [
    "output_2"
   ]
  },
  {
   "cell_type": "code",
   "execution_count": 48,
   "metadata": {},
   "outputs": [
    {
     "data": {
      "text/plain": [
       "(99,)"
      ]
     },
     "execution_count": 48,
     "metadata": {},
     "output_type": "execute_result"
    }
   ],
   "source": [
    "target.shape"
   ]
  },
  {
   "cell_type": "code",
   "execution_count": 49,
   "metadata": {},
   "outputs": [
    {
     "data": {
      "text/plain": [
       "(99,)"
      ]
     },
     "execution_count": 49,
     "metadata": {},
     "output_type": "execute_result"
    }
   ],
   "source": [
    "prediction_2.shape"
   ]
  },
  {
   "cell_type": "markdown",
   "metadata": {},
   "source": [
    "READING THE NEW DATA SET TO MAKE PREDICTIONS"
   ]
  },
  {
   "cell_type": "code",
   "execution_count": 50,
   "metadata": {},
   "outputs": [],
   "source": [
    "raw_data_test = pd.read_excel('/Users/aryamonani/Downloads/Model Prediction.xlsx') #reading data"
   ]
  },
  {
   "cell_type": "code",
   "execution_count": 51,
   "metadata": {},
   "outputs": [
    {
     "data": {
      "text/html": [
       "<div>\n",
       "<style scoped>\n",
       "    .dataframe tbody tr th:only-of-type {\n",
       "        vertical-align: middle;\n",
       "    }\n",
       "\n",
       "    .dataframe tbody tr th {\n",
       "        vertical-align: top;\n",
       "    }\n",
       "\n",
       "    .dataframe thead th {\n",
       "        text-align: right;\n",
       "    }\n",
       "</style>\n",
       "<table border=\"1\" class=\"dataframe\">\n",
       "  <thead>\n",
       "    <tr style=\"text-align: right;\">\n",
       "      <th></th>\n",
       "      <th>land_area</th>\n",
       "      <th>percent_city</th>\n",
       "      <th>percent_senior</th>\n",
       "      <th>physicians</th>\n",
       "      <th>hospital_beds</th>\n",
       "      <th>graduates</th>\n",
       "      <th>labor</th>\n",
       "      <th>income</th>\n",
       "      <th>region</th>\n",
       "      <th>crime_rate</th>\n",
       "    </tr>\n",
       "  </thead>\n",
       "  <tbody>\n",
       "    <tr>\n",
       "      <td>count</td>\n",
       "      <td>42.000000</td>\n",
       "      <td>42.000000</td>\n",
       "      <td>42.000000</td>\n",
       "      <td>42.000000</td>\n",
       "      <td>42.000000</td>\n",
       "      <td>42.000000</td>\n",
       "      <td>42.000000</td>\n",
       "      <td>42.000000</td>\n",
       "      <td>42.000000</td>\n",
       "      <td>0.0</td>\n",
       "    </tr>\n",
       "    <tr>\n",
       "      <td>mean</td>\n",
       "      <td>2494.380952</td>\n",
       "      <td>40.054762</td>\n",
       "      <td>9.911905</td>\n",
       "      <td>1659.857143</td>\n",
       "      <td>5635.047619</td>\n",
       "      <td>54.709524</td>\n",
       "      <td>390.116667</td>\n",
       "      <td>5840.619048</td>\n",
       "      <td>2.738095</td>\n",
       "      <td>NaN</td>\n",
       "    </tr>\n",
       "    <tr>\n",
       "      <td>std</td>\n",
       "      <td>2077.962181</td>\n",
       "      <td>18.360419</td>\n",
       "      <td>2.545795</td>\n",
       "      <td>2567.526565</td>\n",
       "      <td>7127.897986</td>\n",
       "      <td>8.306090</td>\n",
       "      <td>544.346016</td>\n",
       "      <td>8674.052964</td>\n",
       "      <td>1.013555</td>\n",
       "      <td>NaN</td>\n",
       "    </tr>\n",
       "    <tr>\n",
       "      <td>min</td>\n",
       "      <td>228.000000</td>\n",
       "      <td>0.000000</td>\n",
       "      <td>6.800000</td>\n",
       "      <td>220.000000</td>\n",
       "      <td>929.000000</td>\n",
       "      <td>39.100000</td>\n",
       "      <td>104.400000</td>\n",
       "      <td>1351.000000</td>\n",
       "      <td>1.000000</td>\n",
       "      <td>NaN</td>\n",
       "    </tr>\n",
       "    <tr>\n",
       "      <td>25%</td>\n",
       "      <td>1228.000000</td>\n",
       "      <td>25.175000</td>\n",
       "      <td>8.100000</td>\n",
       "      <td>405.250000</td>\n",
       "      <td>2040.750000</td>\n",
       "      <td>47.900000</td>\n",
       "      <td>130.175000</td>\n",
       "      <td>1867.750000</td>\n",
       "      <td>2.000000</td>\n",
       "      <td>NaN</td>\n",
       "    </tr>\n",
       "    <tr>\n",
       "      <td>50%</td>\n",
       "      <td>1739.000000</td>\n",
       "      <td>40.000000</td>\n",
       "      <td>9.700000</td>\n",
       "      <td>695.500000</td>\n",
       "      <td>3161.500000</td>\n",
       "      <td>53.000000</td>\n",
       "      <td>179.150000</td>\n",
       "      <td>2445.500000</td>\n",
       "      <td>3.000000</td>\n",
       "      <td>NaN</td>\n",
       "    </tr>\n",
       "    <tr>\n",
       "      <td>75%</td>\n",
       "      <td>2854.000000</td>\n",
       "      <td>50.475000</td>\n",
       "      <td>10.700000</td>\n",
       "      <td>1731.000000</td>\n",
       "      <td>6207.500000</td>\n",
       "      <td>62.800000</td>\n",
       "      <td>393.725000</td>\n",
       "      <td>5804.750000</td>\n",
       "      <td>3.750000</td>\n",
       "      <td>NaN</td>\n",
       "    </tr>\n",
       "    <tr>\n",
       "      <td>max</td>\n",
       "      <td>9240.000000</td>\n",
       "      <td>78.700000</td>\n",
       "      <td>20.600000</td>\n",
       "      <td>15389.000000</td>\n",
       "      <td>39699.000000</td>\n",
       "      <td>71.200000</td>\n",
       "      <td>3353.600000</td>\n",
       "      <td>52737.000000</td>\n",
       "      <td>4.000000</td>\n",
       "      <td>NaN</td>\n",
       "    </tr>\n",
       "  </tbody>\n",
       "</table>\n",
       "</div>"
      ],
      "text/plain": [
       "         land_area  percent_city  percent_senior    physicians  hospital_beds  \\\n",
       "count    42.000000     42.000000       42.000000     42.000000      42.000000   \n",
       "mean   2494.380952     40.054762        9.911905   1659.857143    5635.047619   \n",
       "std    2077.962181     18.360419        2.545795   2567.526565    7127.897986   \n",
       "min     228.000000      0.000000        6.800000    220.000000     929.000000   \n",
       "25%    1228.000000     25.175000        8.100000    405.250000    2040.750000   \n",
       "50%    1739.000000     40.000000        9.700000    695.500000    3161.500000   \n",
       "75%    2854.000000     50.475000       10.700000   1731.000000    6207.500000   \n",
       "max    9240.000000     78.700000       20.600000  15389.000000   39699.000000   \n",
       "\n",
       "       graduates        labor        income     region  crime_rate  \n",
       "count  42.000000    42.000000     42.000000  42.000000         0.0  \n",
       "mean   54.709524   390.116667   5840.619048   2.738095         NaN  \n",
       "std     8.306090   544.346016   8674.052964   1.013555         NaN  \n",
       "min    39.100000   104.400000   1351.000000   1.000000         NaN  \n",
       "25%    47.900000   130.175000   1867.750000   2.000000         NaN  \n",
       "50%    53.000000   179.150000   2445.500000   3.000000         NaN  \n",
       "75%    62.800000   393.725000   5804.750000   3.750000         NaN  \n",
       "max    71.200000  3353.600000  52737.000000   4.000000         NaN  "
      ]
     },
     "execution_count": 51,
     "metadata": {},
     "output_type": "execute_result"
    }
   ],
   "source": [
    "raw_data_test.describe()"
   ]
  },
  {
   "cell_type": "code",
   "execution_count": 52,
   "metadata": {},
   "outputs": [
    {
     "data": {
      "text/html": [
       "<div>\n",
       "<style scoped>\n",
       "    .dataframe tbody tr th:only-of-type {\n",
       "        vertical-align: middle;\n",
       "    }\n",
       "\n",
       "    .dataframe tbody tr th {\n",
       "        vertical-align: top;\n",
       "    }\n",
       "\n",
       "    .dataframe thead th {\n",
       "        text-align: right;\n",
       "    }\n",
       "</style>\n",
       "<table border=\"1\" class=\"dataframe\">\n",
       "  <thead>\n",
       "    <tr style=\"text-align: right;\">\n",
       "      <th></th>\n",
       "      <th>land_area</th>\n",
       "      <th>percent_city</th>\n",
       "      <th>percent_senior</th>\n",
       "      <th>physicians</th>\n",
       "      <th>hospital_beds</th>\n",
       "      <th>graduates</th>\n",
       "      <th>labor</th>\n",
       "      <th>income</th>\n",
       "      <th>region</th>\n",
       "      <th>crime_rate</th>\n",
       "    </tr>\n",
       "  </thead>\n",
       "  <tbody>\n",
       "    <tr>\n",
       "      <td>0</td>\n",
       "      <td>3650</td>\n",
       "      <td>34.6</td>\n",
       "      <td>11.1</td>\n",
       "      <td>2358</td>\n",
       "      <td>6224</td>\n",
       "      <td>62.9</td>\n",
       "      <td>539.3</td>\n",
       "      <td>7792</td>\n",
       "      <td>4</td>\n",
       "      <td>NaN</td>\n",
       "    </tr>\n",
       "    <tr>\n",
       "      <td>1</td>\n",
       "      <td>4883</td>\n",
       "      <td>72.4</td>\n",
       "      <td>7.3</td>\n",
       "      <td>873</td>\n",
       "      <td>2236</td>\n",
       "      <td>64.9</td>\n",
       "      <td>185.2</td>\n",
       "      <td>2353</td>\n",
       "      <td>4</td>\n",
       "      <td>NaN</td>\n",
       "    </tr>\n",
       "    <tr>\n",
       "      <td>2</td>\n",
       "      <td>1435</td>\n",
       "      <td>13.4</td>\n",
       "      <td>11.7</td>\n",
       "      <td>342</td>\n",
       "      <td>1076</td>\n",
       "      <td>44.7</td>\n",
       "      <td>156.8</td>\n",
       "      <td>2165</td>\n",
       "      <td>1</td>\n",
       "      <td>NaN</td>\n",
       "    </tr>\n",
       "    <tr>\n",
       "      <td>3</td>\n",
       "      <td>2042</td>\n",
       "      <td>24.5</td>\n",
       "      <td>16.5</td>\n",
       "      <td>4071</td>\n",
       "      <td>10039</td>\n",
       "      <td>51.9</td>\n",
       "      <td>681.7</td>\n",
       "      <td>10166</td>\n",
       "      <td>3</td>\n",
       "      <td>NaN</td>\n",
       "    </tr>\n",
       "    <tr>\n",
       "      <td>4</td>\n",
       "      <td>1630</td>\n",
       "      <td>41.9</td>\n",
       "      <td>10.7</td>\n",
       "      <td>724</td>\n",
       "      <td>4395</td>\n",
       "      <td>50.0</td>\n",
       "      <td>198.0</td>\n",
       "      <td>2445</td>\n",
       "      <td>3</td>\n",
       "      <td>NaN</td>\n",
       "    </tr>\n",
       "  </tbody>\n",
       "</table>\n",
       "</div>"
      ],
      "text/plain": [
       "   land_area  percent_city  percent_senior  physicians  hospital_beds  \\\n",
       "0       3650          34.6            11.1        2358           6224   \n",
       "1       4883          72.4             7.3         873           2236   \n",
       "2       1435          13.4            11.7         342           1076   \n",
       "3       2042          24.5            16.5        4071          10039   \n",
       "4       1630          41.9            10.7         724           4395   \n",
       "\n",
       "   graduates  labor  income  region  crime_rate  \n",
       "0       62.9  539.3    7792       4         NaN  \n",
       "1       64.9  185.2    2353       4         NaN  \n",
       "2       44.7  156.8    2165       1         NaN  \n",
       "3       51.9  681.7   10166       3         NaN  \n",
       "4       50.0  198.0    2445       3         NaN  "
      ]
     },
     "execution_count": 52,
     "metadata": {},
     "output_type": "execute_result"
    }
   ],
   "source": [
    "raw_data_test.head()"
   ]
  },
  {
   "cell_type": "markdown",
   "metadata": {},
   "source": [
    "CLEANING THE NEW DATA, FOR MAKING ACCURATE PREDICTIONS USING THE MODEL TRAINED ABOVE"
   ]
  },
  {
   "cell_type": "code",
   "execution_count": 53,
   "metadata": {},
   "outputs": [
    {
     "data": {
      "text/plain": [
       "<matplotlib.axes._subplots.AxesSubplot at 0x1a2236f990>"
      ]
     },
     "execution_count": 53,
     "metadata": {},
     "output_type": "execute_result"
    },
    {
     "data": {
      "image/png": "[encoded data removed]",
      "text/plain": [
       "<Figure size 432x288 with 1 Axes>"
      ]
     },
     "metadata": {
      "needs_background": "light"
     },
     "output_type": "display_data"
    }
   ],
   "source": [
    "sns.distplot(raw_data_test['land_area']) #outliers are present, data is skewed."
   ]
  },
  {
   "cell_type": "code",
   "execution_count": 54,
   "metadata": {},
   "outputs": [],
   "source": [
    "raw_data_test['log_land_area'] = np.log(raw_data_test['land_area']) #applying log transform on land_area and \n",
    "                                                                    #storing it in log_land_area"
   ]
  },
  {
   "cell_type": "code",
   "execution_count": 55,
   "metadata": {},
   "outputs": [
    {
     "data": {
      "text/plain": [
       "<matplotlib.axes._subplots.AxesSubplot at 0x1a22377850>"
      ]
     },
     "execution_count": 55,
     "metadata": {},
     "output_type": "execute_result"
    },
    {
     "data": {
      "image/png": "[encoded data removed]",
      "text/plain": [
       "<Figure size 432x288 with 1 Axes>"
      ]
     },
     "metadata": {
      "needs_background": "light"
     },
     "output_type": "display_data"
    }
   ],
   "source": [
    "sns.distplot(raw_data_test['log_land_area']) #less skewness than before"
   ]
  },
  {
   "cell_type": "code",
   "execution_count": 56,
   "metadata": {},
   "outputs": [
    {
     "data": {
      "text/plain": [
       "<matplotlib.axes._subplots.AxesSubplot at 0x1a22501610>"
      ]
     },
     "execution_count": 56,
     "metadata": {},
     "output_type": "execute_result"
    },
    {
     "data": {
      "image/png": "[encoded data removed]",
      "text/plain": [
       "<Figure size 432x288 with 1 Axes>"
      ]
     },
     "metadata": {
      "needs_background": "light"
     },
     "output_type": "display_data"
    }
   ],
   "source": [
    "sns.distplot(raw_data_test['percent_city']) #normally distributed"
   ]
  },
  {
   "cell_type": "code",
   "execution_count": 57,
   "metadata": {},
   "outputs": [
    {
     "data": {
      "text/plain": [
       "<matplotlib.axes._subplots.AxesSubplot at 0x1a22501950>"
      ]
     },
     "execution_count": 57,
     "metadata": {},
     "output_type": "execute_result"
    },
    {
     "data": {
      "image/png": "[encoded data removed]",
      "text/plain": [
       "<Figure size 432x288 with 1 Axes>"
      ]
     },
     "metadata": {
      "needs_background": "light"
     },
     "output_type": "display_data"
    }
   ],
   "source": [
    "sns.distplot(raw_data_test['percent_senior']) #outliers are present, data is skewed."
   ]
  },
  {
   "cell_type": "code",
   "execution_count": 58,
   "metadata": {},
   "outputs": [
    {
     "data": {
      "text/plain": [
       "<matplotlib.axes._subplots.AxesSubplot at 0x1a226dc750>"
      ]
     },
     "execution_count": 58,
     "metadata": {},
     "output_type": "execute_result"
    },
    {
     "data": {
      "image/png": "[encoded data removed]",
      "text/plain": [
       "<Figure size 432x288 with 1 Axes>"
      ]
     },
     "metadata": {
      "needs_background": "light"
     },
     "output_type": "display_data"
    }
   ],
   "source": [
    "sns.distplot(raw_data_test['physicians'])"
   ]
  },
  {
   "cell_type": "code",
   "execution_count": 59,
   "metadata": {},
   "outputs": [],
   "source": [
    "raw_data_test['log_physicians'] = np.log(raw_data_test['physicians'])"
   ]
  },
  {
   "cell_type": "code",
   "execution_count": 60,
   "metadata": {},
   "outputs": [
    {
     "data": {
      "text/plain": [
       "<matplotlib.axes._subplots.AxesSubplot at 0x1a227d6a90>"
      ]
     },
     "execution_count": 60,
     "metadata": {},
     "output_type": "execute_result"
    },
    {
     "data": {
      "image/png": "[encoded data removed]",
      "text/plain": [
       "<Figure size 432x288 with 1 Axes>"
      ]
     },
     "metadata": {
      "needs_background": "light"
     },
     "output_type": "display_data"
    }
   ],
   "source": [
    "sns.distplot(raw_data['log_physicians'])"
   ]
  },
  {
   "cell_type": "code",
   "execution_count": 61,
   "metadata": {},
   "outputs": [
    {
     "data": {
      "text/plain": [
       "<matplotlib.axes._subplots.AxesSubplot at 0x1a228e6290>"
      ]
     },
     "execution_count": 61,
     "metadata": {},
     "output_type": "execute_result"
    },
    {
     "data": {
      "image/png": "[encoded data removed]",
      "text/plain": [
       "<Figure size 432x288 with 1 Axes>"
      ]
     },
     "metadata": {
      "needs_background": "light"
     },
     "output_type": "display_data"
    }
   ],
   "source": [
    "sns.distplot(raw_data_test['hospital_beds'])"
   ]
  },
  {
   "cell_type": "code",
   "execution_count": 62,
   "metadata": {},
   "outputs": [],
   "source": [
    "raw_data_test['log_hospital_beds'] = np.log(raw_data_test['hospital_beds'])"
   ]
  },
  {
   "cell_type": "code",
   "execution_count": 63,
   "metadata": {},
   "outputs": [
    {
     "data": {
      "text/plain": [
       "<matplotlib.axes._subplots.AxesSubplot at 0x1a229e9690>"
      ]
     },
     "execution_count": 63,
     "metadata": {},
     "output_type": "execute_result"
    },
    {
     "data": {
      "image/png": "[encoded data removed]",
      "text/plain": [
       "<Figure size 432x288 with 1 Axes>"
      ]
     },
     "metadata": {
      "needs_background": "light"
     },
     "output_type": "display_data"
    }
   ],
   "source": [
    "sns.distplot(raw_data_test['log_hospital_beds'])"
   ]
  },
  {
   "cell_type": "code",
   "execution_count": 64,
   "metadata": {},
   "outputs": [
    {
     "data": {
      "text/plain": [
       "<matplotlib.axes._subplots.AxesSubplot at 0x1a227ebad0>"
      ]
     },
     "execution_count": 64,
     "metadata": {},
     "output_type": "execute_result"
    },
    {
     "data": {
      "image/png": "[encoded data removed]",
      "text/plain": [
       "<Figure size 432x288 with 1 Axes>"
      ]
     },
     "metadata": {
      "needs_background": "light"
     },
     "output_type": "display_data"
    }
   ],
   "source": [
    "sns.distplot(raw_data_test['graduates'])"
   ]
  },
  {
   "cell_type": "code",
   "execution_count": 65,
   "metadata": {},
   "outputs": [
    {
     "data": {
      "text/plain": [
       "<matplotlib.axes._subplots.AxesSubplot at 0x1a22bb7d90>"
      ]
     },
     "execution_count": 65,
     "metadata": {},
     "output_type": "execute_result"
    },
    {
     "data": {
      "image/png": "[encoded data removed]",
      "text/plain": [
       "<Figure size 432x288 with 1 Axes>"
      ]
     },
     "metadata": {
      "needs_background": "light"
     },
     "output_type": "display_data"
    }
   ],
   "source": [
    "sns.distplot(raw_data_test['labor'])"
   ]
  },
  {
   "cell_type": "code",
   "execution_count": 66,
   "metadata": {},
   "outputs": [],
   "source": [
    "raw_data_test['log_labor'] = np.log(raw_data_test['labor'])"
   ]
  },
  {
   "cell_type": "code",
   "execution_count": 67,
   "metadata": {},
   "outputs": [
    {
     "data": {
      "text/plain": [
       "<matplotlib.axes._subplots.AxesSubplot at 0x1a22d0cf90>"
      ]
     },
     "execution_count": 67,
     "metadata": {},
     "output_type": "execute_result"
    },
    {
     "data": {
      "image/png": "[encoded data removed]",
      "text/plain": [
       "<Figure size 432x288 with 1 Axes>"
      ]
     },
     "metadata": {
      "needs_background": "light"
     },
     "output_type": "display_data"
    }
   ],
   "source": [
    "sns.distplot(raw_data_test['log_labor'])"
   ]
  },
  {
   "cell_type": "code",
   "execution_count": 68,
   "metadata": {},
   "outputs": [
    {
     "data": {
      "text/plain": [
       "<matplotlib.axes._subplots.AxesSubplot at 0x1a22904950>"
      ]
     },
     "execution_count": 68,
     "metadata": {},
     "output_type": "execute_result"
    },
    {
     "data": {
      "image/png": "[encoded data removed]",
      "text/plain": [
       "<Figure size 432x288 with 1 Axes>"
      ]
     },
     "metadata": {
      "needs_background": "light"
     },
     "output_type": "display_data"
    }
   ],
   "source": [
    "sns.distplot(raw_data_test['income'])"
   ]
  },
  {
   "cell_type": "code",
   "execution_count": 69,
   "metadata": {},
   "outputs": [],
   "source": [
    "raw_data_test['log_income'] = np.log(raw_data_test['income'])"
   ]
  },
  {
   "cell_type": "code",
   "execution_count": 70,
   "metadata": {},
   "outputs": [
    {
     "data": {
      "text/plain": [
       "<matplotlib.axes._subplots.AxesSubplot at 0x1a22ed9990>"
      ]
     },
     "execution_count": 70,
     "metadata": {},
     "output_type": "execute_result"
    },
    {
     "data": {
      "image/png": "[encoded data removed]",
      "text/plain": [
       "<Figure size 432x288 with 1 Axes>"
      ]
     },
     "metadata": {
      "needs_background": "light"
     },
     "output_type": "display_data"
    }
   ],
   "source": [
    "sns.distplot(raw_data_test['log_income'])"
   ]
  },
  {
   "cell_type": "code",
   "execution_count": 71,
   "metadata": {},
   "outputs": [
    {
     "data": {
      "text/plain": [
       "<matplotlib.axes._subplots.AxesSubplot at 0x1a22fdc810>"
      ]
     },
     "execution_count": 71,
     "metadata": {},
     "output_type": "execute_result"
    },
    {
     "data": {
      "image/png": "[encoded data removed]",
      "text/plain": [
       "<Figure size 432x288 with 1 Axes>"
      ]
     },
     "metadata": {
      "needs_background": "light"
     },
     "output_type": "display_data"
    }
   ],
   "source": [
    "sns.distplot(raw_data_test['region'])"
   ]
  },
  {
   "cell_type": "code",
   "execution_count": 72,
   "metadata": {},
   "outputs": [
    {
     "data": {
      "text/html": [
       "<div>\n",
       "<style scoped>\n",
       "    .dataframe tbody tr th:only-of-type {\n",
       "        vertical-align: middle;\n",
       "    }\n",
       "\n",
       "    .dataframe tbody tr th {\n",
       "        vertical-align: top;\n",
       "    }\n",
       "\n",
       "    .dataframe thead th {\n",
       "        text-align: right;\n",
       "    }\n",
       "</style>\n",
       "<table border=\"1\" class=\"dataframe\">\n",
       "  <thead>\n",
       "    <tr style=\"text-align: right;\">\n",
       "      <th></th>\n",
       "      <th>land_area</th>\n",
       "      <th>percent_city</th>\n",
       "      <th>percent_senior</th>\n",
       "      <th>physicians</th>\n",
       "      <th>hospital_beds</th>\n",
       "      <th>graduates</th>\n",
       "      <th>labor</th>\n",
       "      <th>income</th>\n",
       "      <th>region</th>\n",
       "      <th>crime_rate</th>\n",
       "      <th>log_land_area</th>\n",
       "      <th>log_physicians</th>\n",
       "      <th>log_hospital_beds</th>\n",
       "      <th>log_labor</th>\n",
       "      <th>log_income</th>\n",
       "    </tr>\n",
       "  </thead>\n",
       "  <tbody>\n",
       "    <tr>\n",
       "      <td>0</td>\n",
       "      <td>3650</td>\n",
       "      <td>34.6</td>\n",
       "      <td>11.1</td>\n",
       "      <td>2358</td>\n",
       "      <td>6224</td>\n",
       "      <td>62.9</td>\n",
       "      <td>539.3</td>\n",
       "      <td>7792</td>\n",
       "      <td>4</td>\n",
       "      <td>NaN</td>\n",
       "      <td>8.202482</td>\n",
       "      <td>7.765569</td>\n",
       "      <td>8.736168</td>\n",
       "      <td>6.290272</td>\n",
       "      <td>8.960853</td>\n",
       "    </tr>\n",
       "    <tr>\n",
       "      <td>1</td>\n",
       "      <td>4883</td>\n",
       "      <td>72.4</td>\n",
       "      <td>7.3</td>\n",
       "      <td>873</td>\n",
       "      <td>2236</td>\n",
       "      <td>64.9</td>\n",
       "      <td>185.2</td>\n",
       "      <td>2353</td>\n",
       "      <td>4</td>\n",
       "      <td>NaN</td>\n",
       "      <td>8.493515</td>\n",
       "      <td>6.771936</td>\n",
       "      <td>7.712444</td>\n",
       "      <td>5.221436</td>\n",
       "      <td>7.763446</td>\n",
       "    </tr>\n",
       "    <tr>\n",
       "      <td>2</td>\n",
       "      <td>1435</td>\n",
       "      <td>13.4</td>\n",
       "      <td>11.7</td>\n",
       "      <td>342</td>\n",
       "      <td>1076</td>\n",
       "      <td>44.7</td>\n",
       "      <td>156.8</td>\n",
       "      <td>2165</td>\n",
       "      <td>1</td>\n",
       "      <td>NaN</td>\n",
       "      <td>7.268920</td>\n",
       "      <td>5.834811</td>\n",
       "      <td>6.981006</td>\n",
       "      <td>5.054971</td>\n",
       "      <td>7.680176</td>\n",
       "    </tr>\n",
       "    <tr>\n",
       "      <td>3</td>\n",
       "      <td>2042</td>\n",
       "      <td>24.5</td>\n",
       "      <td>16.5</td>\n",
       "      <td>4071</td>\n",
       "      <td>10039</td>\n",
       "      <td>51.9</td>\n",
       "      <td>681.7</td>\n",
       "      <td>10166</td>\n",
       "      <td>3</td>\n",
       "      <td>NaN</td>\n",
       "      <td>7.621685</td>\n",
       "      <td>8.311644</td>\n",
       "      <td>9.214233</td>\n",
       "      <td>6.524590</td>\n",
       "      <td>9.226804</td>\n",
       "    </tr>\n",
       "    <tr>\n",
       "      <td>4</td>\n",
       "      <td>1630</td>\n",
       "      <td>41.9</td>\n",
       "      <td>10.7</td>\n",
       "      <td>724</td>\n",
       "      <td>4395</td>\n",
       "      <td>50.0</td>\n",
       "      <td>198.0</td>\n",
       "      <td>2445</td>\n",
       "      <td>3</td>\n",
       "      <td>NaN</td>\n",
       "      <td>7.396335</td>\n",
       "      <td>6.584791</td>\n",
       "      <td>8.388223</td>\n",
       "      <td>5.288267</td>\n",
       "      <td>7.801800</td>\n",
       "    </tr>\n",
       "  </tbody>\n",
       "</table>\n",
       "</div>"
      ],
      "text/plain": [
       "   land_area  percent_city  percent_senior  physicians  hospital_beds  \\\n",
       "0       3650          34.6            11.1        2358           6224   \n",
       "1       4883          72.4             7.3         873           2236   \n",
       "2       1435          13.4            11.7         342           1076   \n",
       "3       2042          24.5            16.5        4071          10039   \n",
       "4       1630          41.9            10.7         724           4395   \n",
       "\n",
       "   graduates  labor  income  region  crime_rate  log_land_area  \\\n",
       "0       62.9  539.3    7792       4         NaN       8.202482   \n",
       "1       64.9  185.2    2353       4         NaN       8.493515   \n",
       "2       44.7  156.8    2165       1         NaN       7.268920   \n",
       "3       51.9  681.7   10166       3         NaN       7.621685   \n",
       "4       50.0  198.0    2445       3         NaN       7.396335   \n",
       "\n",
       "   log_physicians  log_hospital_beds  log_labor  log_income  \n",
       "0        7.765569           8.736168   6.290272    8.960853  \n",
       "1        6.771936           7.712444   5.221436    7.763446  \n",
       "2        5.834811           6.981006   5.054971    7.680176  \n",
       "3        8.311644           9.214233   6.524590    9.226804  \n",
       "4        6.584791           8.388223   5.288267    7.801800  "
      ]
     },
     "execution_count": 72,
     "metadata": {},
     "output_type": "execute_result"
    }
   ],
   "source": [
    "raw_data_test.head()"
   ]
  },
  {
   "cell_type": "code",
   "execution_count": 73,
   "metadata": {},
   "outputs": [],
   "source": [
    "data_test_cleaned = raw_data_test.drop(['land_area', 'physicians', 'hospital_beds', 'labor', 'income', 'crime_rate'], \n",
    "                    axis = 1, inplace = False)"
   ]
  },
  {
   "cell_type": "code",
   "execution_count": 74,
   "metadata": {
    "scrolled": true
   },
   "outputs": [
    {
     "data": {
      "text/html": [
       "<div>\n",
       "<style scoped>\n",
       "    .dataframe tbody tr th:only-of-type {\n",
       "        vertical-align: middle;\n",
       "    }\n",
       "\n",
       "    .dataframe tbody tr th {\n",
       "        vertical-align: top;\n",
       "    }\n",
       "\n",
       "    .dataframe thead th {\n",
       "        text-align: right;\n",
       "    }\n",
       "</style>\n",
       "<table border=\"1\" class=\"dataframe\">\n",
       "  <thead>\n",
       "    <tr style=\"text-align: right;\">\n",
       "      <th></th>\n",
       "      <th>log_land_area</th>\n",
       "      <th>percent_city</th>\n",
       "      <th>percent_senior</th>\n",
       "      <th>log_physicians</th>\n",
       "      <th>log_hospital_beds</th>\n",
       "      <th>graduates</th>\n",
       "      <th>log_labor</th>\n",
       "      <th>log_income</th>\n",
       "      <th>region</th>\n",
       "    </tr>\n",
       "  </thead>\n",
       "  <tbody>\n",
       "    <tr>\n",
       "      <td>0</td>\n",
       "      <td>8.202482</td>\n",
       "      <td>34.6</td>\n",
       "      <td>11.1</td>\n",
       "      <td>7.765569</td>\n",
       "      <td>8.736168</td>\n",
       "      <td>62.9</td>\n",
       "      <td>6.290272</td>\n",
       "      <td>8.960853</td>\n",
       "      <td>4</td>\n",
       "    </tr>\n",
       "    <tr>\n",
       "      <td>1</td>\n",
       "      <td>8.493515</td>\n",
       "      <td>72.4</td>\n",
       "      <td>7.3</td>\n",
       "      <td>6.771936</td>\n",
       "      <td>7.712444</td>\n",
       "      <td>64.9</td>\n",
       "      <td>5.221436</td>\n",
       "      <td>7.763446</td>\n",
       "      <td>4</td>\n",
       "    </tr>\n",
       "    <tr>\n",
       "      <td>2</td>\n",
       "      <td>7.268920</td>\n",
       "      <td>13.4</td>\n",
       "      <td>11.7</td>\n",
       "      <td>5.834811</td>\n",
       "      <td>6.981006</td>\n",
       "      <td>44.7</td>\n",
       "      <td>5.054971</td>\n",
       "      <td>7.680176</td>\n",
       "      <td>1</td>\n",
       "    </tr>\n",
       "    <tr>\n",
       "      <td>3</td>\n",
       "      <td>7.621685</td>\n",
       "      <td>24.5</td>\n",
       "      <td>16.5</td>\n",
       "      <td>8.311644</td>\n",
       "      <td>9.214233</td>\n",
       "      <td>51.9</td>\n",
       "      <td>6.524590</td>\n",
       "      <td>9.226804</td>\n",
       "      <td>3</td>\n",
       "    </tr>\n",
       "    <tr>\n",
       "      <td>4</td>\n",
       "      <td>7.396335</td>\n",
       "      <td>41.9</td>\n",
       "      <td>10.7</td>\n",
       "      <td>6.584791</td>\n",
       "      <td>8.388223</td>\n",
       "      <td>50.0</td>\n",
       "      <td>5.288267</td>\n",
       "      <td>7.801800</td>\n",
       "      <td>3</td>\n",
       "    </tr>\n",
       "    <tr>\n",
       "      <td>5</td>\n",
       "      <td>8.971321</td>\n",
       "      <td>44.4</td>\n",
       "      <td>6.9</td>\n",
       "      <td>5.986452</td>\n",
       "      <td>7.218910</td>\n",
       "      <td>65.2</td>\n",
       "      <td>5.160204</td>\n",
       "      <td>7.787382</td>\n",
       "      <td>4</td>\n",
       "    </tr>\n",
       "    <tr>\n",
       "      <td>6</td>\n",
       "      <td>7.834788</td>\n",
       "      <td>78.7</td>\n",
       "      <td>8.4</td>\n",
       "      <td>7.473069</td>\n",
       "      <td>8.944289</td>\n",
       "      <td>46.5</td>\n",
       "      <td>5.968963</td>\n",
       "      <td>8.627302</td>\n",
       "      <td>3</td>\n",
       "    </tr>\n",
       "    <tr>\n",
       "      <td>7</td>\n",
       "      <td>7.170120</td>\n",
       "      <td>47.6</td>\n",
       "      <td>6.8</td>\n",
       "      <td>7.935230</td>\n",
       "      <td>8.514991</td>\n",
       "      <td>69.0</td>\n",
       "      <td>6.414770</td>\n",
       "      <td>9.128588</td>\n",
       "      <td>4</td>\n",
       "    </tr>\n",
       "    <tr>\n",
       "      <td>8</td>\n",
       "      <td>7.438384</td>\n",
       "      <td>18.8</td>\n",
       "      <td>8.0</td>\n",
       "      <td>6.605298</td>\n",
       "      <td>8.125927</td>\n",
       "      <td>45.9</td>\n",
       "      <td>4.790820</td>\n",
       "      <td>7.387709</td>\n",
       "      <td>3</td>\n",
       "    </tr>\n",
       "    <tr>\n",
       "      <td>9</td>\n",
       "      <td>6.165418</td>\n",
       "      <td>8.9</td>\n",
       "      <td>10.9</td>\n",
       "      <td>6.668228</td>\n",
       "      <td>7.929487</td>\n",
       "      <td>60.1</td>\n",
       "      <td>5.386328</td>\n",
       "      <td>8.189522</td>\n",
       "      <td>1</td>\n",
       "    </tr>\n",
       "    <tr>\n",
       "      <td>10</td>\n",
       "      <td>7.560080</td>\n",
       "      <td>49.8</td>\n",
       "      <td>7.8</td>\n",
       "      <td>5.645447</td>\n",
       "      <td>7.174724</td>\n",
       "      <td>53.2</td>\n",
       "      <td>4.843399</td>\n",
       "      <td>7.347944</td>\n",
       "      <td>3</td>\n",
       "    </tr>\n",
       "    <tr>\n",
       "      <td>11</td>\n",
       "      <td>8.108924</td>\n",
       "      <td>49.7</td>\n",
       "      <td>8.4</td>\n",
       "      <td>5.921578</td>\n",
       "      <td>6.834109</td>\n",
       "      <td>62.5</td>\n",
       "      <td>4.791650</td>\n",
       "      <td>7.559038</td>\n",
       "      <td>4</td>\n",
       "    </tr>\n",
       "    <tr>\n",
       "      <td>12</td>\n",
       "      <td>7.960673</td>\n",
       "      <td>24.9</td>\n",
       "      <td>10.7</td>\n",
       "      <td>6.056784</td>\n",
       "      <td>7.959975</td>\n",
       "      <td>39.1</td>\n",
       "      <td>5.130490</td>\n",
       "      <td>7.594381</td>\n",
       "      <td>3</td>\n",
       "    </tr>\n",
       "    <tr>\n",
       "      <td>13</td>\n",
       "      <td>7.497207</td>\n",
       "      <td>35.3</td>\n",
       "      <td>10.4</td>\n",
       "      <td>6.180017</td>\n",
       "      <td>7.667158</td>\n",
       "      <td>53.7</td>\n",
       "      <td>5.129307</td>\n",
       "      <td>7.888335</td>\n",
       "      <td>2</td>\n",
       "    </tr>\n",
       "    <tr>\n",
       "      <td>14</td>\n",
       "      <td>7.943783</td>\n",
       "      <td>48.5</td>\n",
       "      <td>9.3</td>\n",
       "      <td>6.291569</td>\n",
       "      <td>7.898782</td>\n",
       "      <td>42.3</td>\n",
       "      <td>5.152135</td>\n",
       "      <td>7.678789</td>\n",
       "      <td>3</td>\n",
       "    </tr>\n",
       "    <tr>\n",
       "      <td>15</td>\n",
       "      <td>5.429346</td>\n",
       "      <td>31.1</td>\n",
       "      <td>10.2</td>\n",
       "      <td>6.502790</td>\n",
       "      <td>8.064322</td>\n",
       "      <td>52.8</td>\n",
       "      <td>5.053056</td>\n",
       "      <td>7.724888</td>\n",
       "      <td>1</td>\n",
       "    </tr>\n",
       "    <tr>\n",
       "      <td>16</td>\n",
       "      <td>9.055439</td>\n",
       "      <td>29.7</td>\n",
       "      <td>7.3</td>\n",
       "      <td>7.380256</td>\n",
       "      <td>8.156223</td>\n",
       "      <td>67.6</td>\n",
       "      <td>5.855931</td>\n",
       "      <td>8.445697</td>\n",
       "      <td>4</td>\n",
       "    </tr>\n",
       "    <tr>\n",
       "      <td>17</td>\n",
       "      <td>7.105786</td>\n",
       "      <td>31.7</td>\n",
       "      <td>20.6</td>\n",
       "      <td>7.241366</td>\n",
       "      <td>8.725507</td>\n",
       "      <td>55.4</td>\n",
       "      <td>5.865901</td>\n",
       "      <td>8.679142</td>\n",
       "      <td>3</td>\n",
       "    </tr>\n",
       "    <tr>\n",
       "      <td>18</td>\n",
       "      <td>7.060476</td>\n",
       "      <td>43.7</td>\n",
       "      <td>9.4</td>\n",
       "      <td>6.109248</td>\n",
       "      <td>7.635304</td>\n",
       "      <td>57.5</td>\n",
       "      <td>4.862908</td>\n",
       "      <td>7.449498</td>\n",
       "      <td>2</td>\n",
       "    </tr>\n",
       "    <tr>\n",
       "      <td>19</td>\n",
       "      <td>6.204558</td>\n",
       "      <td>50.7</td>\n",
       "      <td>7.8</td>\n",
       "      <td>5.393628</td>\n",
       "      <td>7.070724</td>\n",
       "      <td>52.6</td>\n",
       "      <td>4.783316</td>\n",
       "      <td>7.415175</td>\n",
       "      <td>2</td>\n",
       "    </tr>\n",
       "    <tr>\n",
       "      <td>20</td>\n",
       "      <td>7.371489</td>\n",
       "      <td>30.1</td>\n",
       "      <td>10.9</td>\n",
       "      <td>7.738924</td>\n",
       "      <td>9.209140</td>\n",
       "      <td>50.4</td>\n",
       "      <td>6.338064</td>\n",
       "      <td>9.037296</td>\n",
       "      <td>1</td>\n",
       "    </tr>\n",
       "    <tr>\n",
       "      <td>21</td>\n",
       "      <td>7.722678</td>\n",
       "      <td>38.6</td>\n",
       "      <td>9.3</td>\n",
       "      <td>8.545003</td>\n",
       "      <td>9.710206</td>\n",
       "      <td>44.6</td>\n",
       "      <td>6.873992</td>\n",
       "      <td>9.564231</td>\n",
       "      <td>3</td>\n",
       "    </tr>\n",
       "    <tr>\n",
       "      <td>22</td>\n",
       "      <td>8.444838</td>\n",
       "      <td>38.8</td>\n",
       "      <td>7.7</td>\n",
       "      <td>8.125631</td>\n",
       "      <td>9.049819</td>\n",
       "      <td>67.4</td>\n",
       "      <td>6.591948</td>\n",
       "      <td>9.247154</td>\n",
       "      <td>4</td>\n",
       "    </tr>\n",
       "    <tr>\n",
       "      <td>23</td>\n",
       "      <td>6.687109</td>\n",
       "      <td>52.6</td>\n",
       "      <td>9.8</td>\n",
       "      <td>5.971262</td>\n",
       "      <td>7.261927</td>\n",
       "      <td>52.2</td>\n",
       "      <td>4.864453</td>\n",
       "      <td>7.504392</td>\n",
       "      <td>2</td>\n",
       "    </tr>\n",
       "    <tr>\n",
       "      <td>24</td>\n",
       "      <td>6.812345</td>\n",
       "      <td>41.2</td>\n",
       "      <td>11.5</td>\n",
       "      <td>5.726848</td>\n",
       "      <td>7.177019</td>\n",
       "      <td>54.2</td>\n",
       "      <td>4.882044</td>\n",
       "      <td>7.474205</td>\n",
       "      <td>2</td>\n",
       "    </tr>\n",
       "    <tr>\n",
       "      <td>25</td>\n",
       "      <td>7.699389</td>\n",
       "      <td>57.3</td>\n",
       "      <td>9.7</td>\n",
       "      <td>5.874931</td>\n",
       "      <td>7.681099</td>\n",
       "      <td>45.5</td>\n",
       "      <td>5.111385</td>\n",
       "      <td>7.754053</td>\n",
       "      <td>3</td>\n",
       "    </tr>\n",
       "    <tr>\n",
       "      <td>26</td>\n",
       "      <td>6.873164</td>\n",
       "      <td>24.9</td>\n",
       "      <td>10.6</td>\n",
       "      <td>6.056784</td>\n",
       "      <td>8.068403</td>\n",
       "      <td>52.2</td>\n",
       "      <td>5.163070</td>\n",
       "      <td>7.802209</td>\n",
       "      <td>2</td>\n",
       "    </tr>\n",
       "    <tr>\n",
       "      <td>27</td>\n",
       "      <td>7.244228</td>\n",
       "      <td>50.8</td>\n",
       "      <td>8.0</td>\n",
       "      <td>5.669881</td>\n",
       "      <td>7.147559</td>\n",
       "      <td>45.7</td>\n",
       "      <td>4.648230</td>\n",
       "      <td>7.208600</td>\n",
       "      <td>3</td>\n",
       "    </tr>\n",
       "    <tr>\n",
       "      <td>28</td>\n",
       "      <td>7.443078</td>\n",
       "      <td>24.0</td>\n",
       "      <td>8.8</td>\n",
       "      <td>6.967909</td>\n",
       "      <td>8.578288</td>\n",
       "      <td>56.2</td>\n",
       "      <td>5.906723</td>\n",
       "      <td>8.610501</td>\n",
       "      <td>2</td>\n",
       "    </tr>\n",
       "    <tr>\n",
       "      <td>29</td>\n",
       "      <td>7.383989</td>\n",
       "      <td>59.8</td>\n",
       "      <td>9.5</td>\n",
       "      <td>6.154858</td>\n",
       "      <td>8.440960</td>\n",
       "      <td>62.9</td>\n",
       "      <td>4.754452</td>\n",
       "      <td>7.523481</td>\n",
       "      <td>4</td>\n",
       "    </tr>\n",
       "    <tr>\n",
       "      <td>30</td>\n",
       "      <td>7.104965</td>\n",
       "      <td>0.0</td>\n",
       "      <td>8.8</td>\n",
       "      <td>8.566935</td>\n",
       "      <td>10.005006</td>\n",
       "      <td>62.9</td>\n",
       "      <td>7.101099</td>\n",
       "      <td>9.976924</td>\n",
       "      <td>1</td>\n",
       "    </tr>\n",
       "    <tr>\n",
       "      <td>31</td>\n",
       "      <td>7.739794</td>\n",
       "      <td>76.2</td>\n",
       "      <td>9.0</td>\n",
       "      <td>7.404888</td>\n",
       "      <td>8.945463</td>\n",
       "      <td>48.2</td>\n",
       "      <td>5.977873</td>\n",
       "      <td>8.553525</td>\n",
       "      <td>3</td>\n",
       "    </tr>\n",
       "    <tr>\n",
       "      <td>32</td>\n",
       "      <td>9.131297</td>\n",
       "      <td>67.0</td>\n",
       "      <td>10.3</td>\n",
       "      <td>7.023759</td>\n",
       "      <td>7.760893</td>\n",
       "      <td>63.1</td>\n",
       "      <td>5.212759</td>\n",
       "      <td>7.862497</td>\n",
       "      <td>4</td>\n",
       "    </tr>\n",
       "    <tr>\n",
       "      <td>33</td>\n",
       "      <td>7.478735</td>\n",
       "      <td>14.8</td>\n",
       "      <td>12.2</td>\n",
       "      <td>5.652489</td>\n",
       "      <td>7.938802</td>\n",
       "      <td>44.1</td>\n",
       "      <td>4.670021</td>\n",
       "      <td>7.337588</td>\n",
       "      <td>1</td>\n",
       "    </tr>\n",
       "    <tr>\n",
       "      <td>34</td>\n",
       "      <td>6.930495</td>\n",
       "      <td>35.1</td>\n",
       "      <td>10.0</td>\n",
       "      <td>6.459904</td>\n",
       "      <td>8.053251</td>\n",
       "      <td>52.1</td>\n",
       "      <td>5.455748</td>\n",
       "      <td>8.142354</td>\n",
       "      <td>2</td>\n",
       "    </tr>\n",
       "    <tr>\n",
       "      <td>35</td>\n",
       "      <td>7.134891</td>\n",
       "      <td>26.0</td>\n",
       "      <td>10.7</td>\n",
       "      <td>6.126869</td>\n",
       "      <td>7.406103</td>\n",
       "      <td>51.6</td>\n",
       "      <td>4.727388</td>\n",
       "      <td>7.452982</td>\n",
       "      <td>3</td>\n",
       "    </tr>\n",
       "    <tr>\n",
       "      <td>36</td>\n",
       "      <td>7.088409</td>\n",
       "      <td>55.1</td>\n",
       "      <td>8.0</td>\n",
       "      <td>7.065613</td>\n",
       "      <td>8.262817</td>\n",
       "      <td>71.2</td>\n",
       "      <td>5.149237</td>\n",
       "      <td>7.619724</td>\n",
       "      <td>2</td>\n",
       "    </tr>\n",
       "    <tr>\n",
       "      <td>37</td>\n",
       "      <td>8.504108</td>\n",
       "      <td>21.8</td>\n",
       "      <td>11.0</td>\n",
       "      <td>8.311644</td>\n",
       "      <td>9.784253</td>\n",
       "      <td>47.8</td>\n",
       "      <td>6.967156</td>\n",
       "      <td>9.687816</td>\n",
       "      <td>2</td>\n",
       "    </tr>\n",
       "    <tr>\n",
       "      <td>38</td>\n",
       "      <td>8.311153</td>\n",
       "      <td>44.0</td>\n",
       "      <td>10.0</td>\n",
       "      <td>9.641408</td>\n",
       "      <td>10.589081</td>\n",
       "      <td>62.0</td>\n",
       "      <td>8.117790</td>\n",
       "      <td>10.873073</td>\n",
       "      <td>4</td>\n",
       "    </tr>\n",
       "    <tr>\n",
       "      <td>39</td>\n",
       "      <td>8.357259</td>\n",
       "      <td>48.6</td>\n",
       "      <td>9.7</td>\n",
       "      <td>8.130354</td>\n",
       "      <td>8.929568</td>\n",
       "      <td>65.3</td>\n",
       "      <td>6.468164</td>\n",
       "      <td>9.248792</td>\n",
       "      <td>4</td>\n",
       "    </tr>\n",
       "    <tr>\n",
       "      <td>40</td>\n",
       "      <td>7.388328</td>\n",
       "      <td>71.0</td>\n",
       "      <td>6.9</td>\n",
       "      <td>6.249975</td>\n",
       "      <td>7.616284</td>\n",
       "      <td>54.1</td>\n",
       "      <td>5.287762</td>\n",
       "      <td>7.869784</td>\n",
       "      <td>3</td>\n",
       "    </tr>\n",
       "    <tr>\n",
       "      <td>41</td>\n",
       "      <td>7.527256</td>\n",
       "      <td>24.3</td>\n",
       "      <td>13.7</td>\n",
       "      <td>5.869297</td>\n",
       "      <td>7.353722</td>\n",
       "      <td>46.3</td>\n",
       "      <td>4.761319</td>\n",
       "      <td>7.317876</td>\n",
       "      <td>3</td>\n",
       "    </tr>\n",
       "  </tbody>\n",
       "</table>\n",
       "</div>"
      ],
      "text/plain": [
       "    log_land_area  percent_city  percent_senior  log_physicians  \\\n",
       "0        8.202482          34.6            11.1        7.765569   \n",
       "1        8.493515          72.4             7.3        6.771936   \n",
       "2        7.268920          13.4            11.7        5.834811   \n",
       "3        7.621685          24.5            16.5        8.311644   \n",
       "4        7.396335          41.9            10.7        6.584791   \n",
       "5        8.971321          44.4             6.9        5.986452   \n",
       "6        7.834788          78.7             8.4        7.473069   \n",
       "7        7.170120          47.6             6.8        7.935230   \n",
       "8        7.438384          18.8             8.0        6.605298   \n",
       "9        6.165418           8.9            10.9        6.668228   \n",
       "10       7.560080          49.8             7.8        5.645447   \n",
       "11       8.108924          49.7             8.4        5.921578   \n",
       "12       7.960673          24.9            10.7        6.056784   \n",
       "13       7.497207          35.3            10.4        6.180017   \n",
       "14       7.943783          48.5             9.3        6.291569   \n",
       "15       5.429346          31.1            10.2        6.502790   \n",
       "16       9.055439          29.7             7.3        7.380256   \n",
       "17       7.105786          31.7            20.6        7.241366   \n",
       "18       7.060476          43.7             9.4        6.109248   \n",
       "19       6.204558          50.7             7.8        5.393628   \n",
       "20       7.371489          30.1            10.9        7.738924   \n",
       "21       7.722678          38.6             9.3        8.545003   \n",
       "22       8.444838          38.8             7.7        8.125631   \n",
       "23       6.687109          52.6             9.8        5.971262   \n",
       "24       6.812345          41.2            11.5        5.726848   \n",
       "25       7.699389          57.3             9.7        5.874931   \n",
       "26       6.873164          24.9            10.6        6.056784   \n",
       "27       7.244228          50.8             8.0        5.669881   \n",
       "28       7.443078          24.0             8.8        6.967909   \n",
       "29       7.383989          59.8             9.5        6.154858   \n",
       "30       7.104965           0.0             8.8        8.566935   \n",
       "31       7.739794          76.2             9.0        7.404888   \n",
       "32       9.131297          67.0            10.3        7.023759   \n",
       "33       7.478735          14.8            12.2        5.652489   \n",
       "34       6.930495          35.1            10.0        6.459904   \n",
       "35       7.134891          26.0            10.7        6.126869   \n",
       "36       7.088409          55.1             8.0        7.065613   \n",
       "37       8.504108          21.8            11.0        8.311644   \n",
       "38       8.311153          44.0            10.0        9.641408   \n",
       "39       8.357259          48.6             9.7        8.130354   \n",
       "40       7.388328          71.0             6.9        6.249975   \n",
       "41       7.527256          24.3            13.7        5.869297   \n",
       "\n",
       "    log_hospital_beds  graduates  log_labor  log_income  region  \n",
       "0            8.736168       62.9   6.290272    8.960853       4  \n",
       "1            7.712444       64.9   5.221436    7.763446       4  \n",
       "2            6.981006       44.7   5.054971    7.680176       1  \n",
       "3            9.214233       51.9   6.524590    9.226804       3  \n",
       "4            8.388223       50.0   5.288267    7.801800       3  \n",
       "5            7.218910       65.2   5.160204    7.787382       4  \n",
       "6            8.944289       46.5   5.968963    8.627302       3  \n",
       "7            8.514991       69.0   6.414770    9.128588       4  \n",
       "8            8.125927       45.9   4.790820    7.387709       3  \n",
       "9            7.929487       60.1   5.386328    8.189522       1  \n",
       "10           7.174724       53.2   4.843399    7.347944       3  \n",
       "11           6.834109       62.5   4.791650    7.559038       4  \n",
       "12           7.959975       39.1   5.130490    7.594381       3  \n",
       "13           7.667158       53.7   5.129307    7.888335       2  \n",
       "14           7.898782       42.3   5.152135    7.678789       3  \n",
       "15           8.064322       52.8   5.053056    7.724888       1  \n",
       "16           8.156223       67.6   5.855931    8.445697       4  \n",
       "17           8.725507       55.4   5.865901    8.679142       3  \n",
       "18           7.635304       57.5   4.862908    7.449498       2  \n",
       "19           7.070724       52.6   4.783316    7.415175       2  \n",
       "20           9.209140       50.4   6.338064    9.037296       1  \n",
       "21           9.710206       44.6   6.873992    9.564231       3  \n",
       "22           9.049819       67.4   6.591948    9.247154       4  \n",
       "23           7.261927       52.2   4.864453    7.504392       2  \n",
       "24           7.177019       54.2   4.882044    7.474205       2  \n",
       "25           7.681099       45.5   5.111385    7.754053       3  \n",
       "26           8.068403       52.2   5.163070    7.802209       2  \n",
       "27           7.147559       45.7   4.648230    7.208600       3  \n",
       "28           8.578288       56.2   5.906723    8.610501       2  \n",
       "29           8.440960       62.9   4.754452    7.523481       4  \n",
       "30          10.005006       62.9   7.101099    9.976924       1  \n",
       "31           8.945463       48.2   5.977873    8.553525       3  \n",
       "32           7.760893       63.1   5.212759    7.862497       4  \n",
       "33           7.938802       44.1   4.670021    7.337588       1  \n",
       "34           8.053251       52.1   5.455748    8.142354       2  \n",
       "35           7.406103       51.6   4.727388    7.452982       3  \n",
       "36           8.262817       71.2   5.149237    7.619724       2  \n",
       "37           9.784253       47.8   6.967156    9.687816       2  \n",
       "38          10.589081       62.0   8.117790   10.873073       4  \n",
       "39           8.929568       65.3   6.468164    9.248792       4  \n",
       "40           7.616284       54.1   5.287762    7.869784       3  \n",
       "41           7.353722       46.3   4.761319    7.317876       3  "
      ]
     },
     "execution_count": 74,
     "metadata": {},
     "output_type": "execute_result"
    }
   ],
   "source": [
    "data_test_cleaned[['log_land_area', 'percent_city', 'percent_senior', 'log_physicians', \n",
    "                  'log_hospital_beds', 'graduates', 'log_labor', 'log_income', 'region']]"
   ]
  },
  {
   "cell_type": "markdown",
   "metadata": {},
   "source": [
    "MAKING PREDICTIONS USING model_2 A MODEL WHICH WAS TRAINED ABOVE"
   ]
  },
  {
   "cell_type": "code",
   "execution_count": 75,
   "metadata": {},
   "outputs": [],
   "source": [
    "prediction_3 = model_2.predict(data_test_cleaned)"
   ]
  },
  {
   "cell_type": "code",
   "execution_count": 76,
   "metadata": {},
   "outputs": [
    {
     "data": {
      "text/plain": [
       "(42,)"
      ]
     },
     "execution_count": 76,
     "metadata": {},
     "output_type": "execute_result"
    }
   ],
   "source": [
    "prediction_3.shape #shape of the variable"
   ]
  },
  {
   "cell_type": "code",
   "execution_count": 77,
   "metadata": {},
   "outputs": [],
   "source": [
    "data_test_cleaned['Crime Rate'] = prediction_3"
   ]
  },
  {
   "cell_type": "code",
   "execution_count": 78,
   "metadata": {
    "scrolled": true
   },
   "outputs": [
    {
     "data": {
      "text/html": [
       "<div>\n",
       "<style scoped>\n",
       "    .dataframe tbody tr th:only-of-type {\n",
       "        vertical-align: middle;\n",
       "    }\n",
       "\n",
       "    .dataframe tbody tr th {\n",
       "        vertical-align: top;\n",
       "    }\n",
       "\n",
       "    .dataframe thead th {\n",
       "        text-align: right;\n",
       "    }\n",
       "</style>\n",
       "<table border=\"1\" class=\"dataframe\">\n",
       "  <thead>\n",
       "    <tr style=\"text-align: right;\">\n",
       "      <th></th>\n",
       "      <th>percent_city</th>\n",
       "      <th>percent_senior</th>\n",
       "      <th>graduates</th>\n",
       "      <th>region</th>\n",
       "      <th>log_land_area</th>\n",
       "      <th>log_physicians</th>\n",
       "      <th>log_hospital_beds</th>\n",
       "      <th>log_labor</th>\n",
       "      <th>log_income</th>\n",
       "      <th>Crime Rate</th>\n",
       "    </tr>\n",
       "  </thead>\n",
       "  <tbody>\n",
       "    <tr>\n",
       "      <td>0</td>\n",
       "      <td>34.6</td>\n",
       "      <td>11.1</td>\n",
       "      <td>62.9</td>\n",
       "      <td>4</td>\n",
       "      <td>8.202482</td>\n",
       "      <td>7.765569</td>\n",
       "      <td>8.736168</td>\n",
       "      <td>6.290272</td>\n",
       "      <td>8.960853</td>\n",
       "      <td>79.991096</td>\n",
       "    </tr>\n",
       "    <tr>\n",
       "      <td>1</td>\n",
       "      <td>72.4</td>\n",
       "      <td>7.3</td>\n",
       "      <td>64.9</td>\n",
       "      <td>4</td>\n",
       "      <td>8.493515</td>\n",
       "      <td>6.771936</td>\n",
       "      <td>7.712444</td>\n",
       "      <td>5.221436</td>\n",
       "      <td>7.763446</td>\n",
       "      <td>66.265907</td>\n",
       "    </tr>\n",
       "    <tr>\n",
       "      <td>2</td>\n",
       "      <td>13.4</td>\n",
       "      <td>11.7</td>\n",
       "      <td>44.7</td>\n",
       "      <td>1</td>\n",
       "      <td>7.268920</td>\n",
       "      <td>5.834811</td>\n",
       "      <td>6.981006</td>\n",
       "      <td>5.054971</td>\n",
       "      <td>7.680176</td>\n",
       "      <td>19.936312</td>\n",
       "    </tr>\n",
       "    <tr>\n",
       "      <td>3</td>\n",
       "      <td>24.5</td>\n",
       "      <td>16.5</td>\n",
       "      <td>51.9</td>\n",
       "      <td>3</td>\n",
       "      <td>7.621685</td>\n",
       "      <td>8.311644</td>\n",
       "      <td>9.214233</td>\n",
       "      <td>6.524590</td>\n",
       "      <td>9.226804</td>\n",
       "      <td>63.707203</td>\n",
       "    </tr>\n",
       "    <tr>\n",
       "      <td>4</td>\n",
       "      <td>41.9</td>\n",
       "      <td>10.7</td>\n",
       "      <td>50.0</td>\n",
       "      <td>3</td>\n",
       "      <td>7.396335</td>\n",
       "      <td>6.584791</td>\n",
       "      <td>8.388223</td>\n",
       "      <td>5.288267</td>\n",
       "      <td>7.801800</td>\n",
       "      <td>51.788975</td>\n",
       "    </tr>\n",
       "    <tr>\n",
       "      <td>5</td>\n",
       "      <td>44.4</td>\n",
       "      <td>6.9</td>\n",
       "      <td>65.2</td>\n",
       "      <td>4</td>\n",
       "      <td>8.971321</td>\n",
       "      <td>5.986452</td>\n",
       "      <td>7.218910</td>\n",
       "      <td>5.160204</td>\n",
       "      <td>7.787382</td>\n",
       "      <td>67.892677</td>\n",
       "    </tr>\n",
       "    <tr>\n",
       "      <td>6</td>\n",
       "      <td>78.7</td>\n",
       "      <td>8.4</td>\n",
       "      <td>46.5</td>\n",
       "      <td>3</td>\n",
       "      <td>7.834788</td>\n",
       "      <td>7.473069</td>\n",
       "      <td>8.944289</td>\n",
       "      <td>5.968963</td>\n",
       "      <td>8.627302</td>\n",
       "      <td>63.909676</td>\n",
       "    </tr>\n",
       "    <tr>\n",
       "      <td>7</td>\n",
       "      <td>47.6</td>\n",
       "      <td>6.8</td>\n",
       "      <td>69.0</td>\n",
       "      <td>4</td>\n",
       "      <td>7.170120</td>\n",
       "      <td>7.935230</td>\n",
       "      <td>8.514991</td>\n",
       "      <td>6.414770</td>\n",
       "      <td>9.128588</td>\n",
       "      <td>62.597260</td>\n",
       "    </tr>\n",
       "    <tr>\n",
       "      <td>8</td>\n",
       "      <td>18.8</td>\n",
       "      <td>8.0</td>\n",
       "      <td>45.9</td>\n",
       "      <td>3</td>\n",
       "      <td>7.438384</td>\n",
       "      <td>6.605298</td>\n",
       "      <td>8.125927</td>\n",
       "      <td>4.790820</td>\n",
       "      <td>7.387709</td>\n",
       "      <td>55.491104</td>\n",
       "    </tr>\n",
       "    <tr>\n",
       "      <td>9</td>\n",
       "      <td>8.9</td>\n",
       "      <td>10.9</td>\n",
       "      <td>60.1</td>\n",
       "      <td>1</td>\n",
       "      <td>6.165418</td>\n",
       "      <td>6.668228</td>\n",
       "      <td>7.929487</td>\n",
       "      <td>5.386328</td>\n",
       "      <td>8.189522</td>\n",
       "      <td>53.341946</td>\n",
       "    </tr>\n",
       "    <tr>\n",
       "      <td>10</td>\n",
       "      <td>49.8</td>\n",
       "      <td>7.8</td>\n",
       "      <td>53.2</td>\n",
       "      <td>3</td>\n",
       "      <td>7.560080</td>\n",
       "      <td>5.645447</td>\n",
       "      <td>7.174724</td>\n",
       "      <td>4.843399</td>\n",
       "      <td>7.347944</td>\n",
       "      <td>58.452545</td>\n",
       "    </tr>\n",
       "    <tr>\n",
       "      <td>11</td>\n",
       "      <td>49.7</td>\n",
       "      <td>8.4</td>\n",
       "      <td>62.5</td>\n",
       "      <td>4</td>\n",
       "      <td>8.108924</td>\n",
       "      <td>5.921578</td>\n",
       "      <td>6.834109</td>\n",
       "      <td>4.791650</td>\n",
       "      <td>7.559038</td>\n",
       "      <td>66.191208</td>\n",
       "    </tr>\n",
       "    <tr>\n",
       "      <td>12</td>\n",
       "      <td>24.9</td>\n",
       "      <td>10.7</td>\n",
       "      <td>39.1</td>\n",
       "      <td>3</td>\n",
       "      <td>7.960673</td>\n",
       "      <td>6.056784</td>\n",
       "      <td>7.959975</td>\n",
       "      <td>5.130490</td>\n",
       "      <td>7.594381</td>\n",
       "      <td>54.514240</td>\n",
       "    </tr>\n",
       "    <tr>\n",
       "      <td>13</td>\n",
       "      <td>35.3</td>\n",
       "      <td>10.4</td>\n",
       "      <td>53.7</td>\n",
       "      <td>2</td>\n",
       "      <td>7.497207</td>\n",
       "      <td>6.180017</td>\n",
       "      <td>7.667158</td>\n",
       "      <td>5.129307</td>\n",
       "      <td>7.888335</td>\n",
       "      <td>48.642780</td>\n",
       "    </tr>\n",
       "    <tr>\n",
       "      <td>14</td>\n",
       "      <td>48.5</td>\n",
       "      <td>9.3</td>\n",
       "      <td>42.3</td>\n",
       "      <td>3</td>\n",
       "      <td>7.943783</td>\n",
       "      <td>6.291569</td>\n",
       "      <td>7.898782</td>\n",
       "      <td>5.152135</td>\n",
       "      <td>7.678789</td>\n",
       "      <td>56.656345</td>\n",
       "    </tr>\n",
       "    <tr>\n",
       "      <td>15</td>\n",
       "      <td>31.1</td>\n",
       "      <td>10.2</td>\n",
       "      <td>52.8</td>\n",
       "      <td>1</td>\n",
       "      <td>5.429346</td>\n",
       "      <td>6.502790</td>\n",
       "      <td>8.064322</td>\n",
       "      <td>5.053056</td>\n",
       "      <td>7.724888</td>\n",
       "      <td>49.508442</td>\n",
       "    </tr>\n",
       "    <tr>\n",
       "      <td>16</td>\n",
       "      <td>29.7</td>\n",
       "      <td>7.3</td>\n",
       "      <td>67.6</td>\n",
       "      <td>4</td>\n",
       "      <td>9.055439</td>\n",
       "      <td>7.380256</td>\n",
       "      <td>8.156223</td>\n",
       "      <td>5.855931</td>\n",
       "      <td>8.445697</td>\n",
       "      <td>69.649780</td>\n",
       "    </tr>\n",
       "    <tr>\n",
       "      <td>17</td>\n",
       "      <td>31.7</td>\n",
       "      <td>20.6</td>\n",
       "      <td>55.4</td>\n",
       "      <td>3</td>\n",
       "      <td>7.105786</td>\n",
       "      <td>7.241366</td>\n",
       "      <td>8.725507</td>\n",
       "      <td>5.865901</td>\n",
       "      <td>8.679142</td>\n",
       "      <td>71.255577</td>\n",
       "    </tr>\n",
       "    <tr>\n",
       "      <td>18</td>\n",
       "      <td>43.7</td>\n",
       "      <td>9.4</td>\n",
       "      <td>57.5</td>\n",
       "      <td>2</td>\n",
       "      <td>7.060476</td>\n",
       "      <td>6.109248</td>\n",
       "      <td>7.635304</td>\n",
       "      <td>4.862908</td>\n",
       "      <td>7.449498</td>\n",
       "      <td>53.533184</td>\n",
       "    </tr>\n",
       "    <tr>\n",
       "      <td>19</td>\n",
       "      <td>50.7</td>\n",
       "      <td>7.8</td>\n",
       "      <td>52.6</td>\n",
       "      <td>2</td>\n",
       "      <td>6.204558</td>\n",
       "      <td>5.393628</td>\n",
       "      <td>7.070724</td>\n",
       "      <td>4.783316</td>\n",
       "      <td>7.415175</td>\n",
       "      <td>49.240826</td>\n",
       "    </tr>\n",
       "    <tr>\n",
       "      <td>20</td>\n",
       "      <td>30.1</td>\n",
       "      <td>10.9</td>\n",
       "      <td>50.4</td>\n",
       "      <td>1</td>\n",
       "      <td>7.371489</td>\n",
       "      <td>7.738924</td>\n",
       "      <td>9.209140</td>\n",
       "      <td>6.338064</td>\n",
       "      <td>9.037296</td>\n",
       "      <td>43.943710</td>\n",
       "    </tr>\n",
       "    <tr>\n",
       "      <td>21</td>\n",
       "      <td>38.6</td>\n",
       "      <td>9.3</td>\n",
       "      <td>44.6</td>\n",
       "      <td>3</td>\n",
       "      <td>7.722678</td>\n",
       "      <td>8.545003</td>\n",
       "      <td>9.710206</td>\n",
       "      <td>6.873992</td>\n",
       "      <td>9.564231</td>\n",
       "      <td>64.859650</td>\n",
       "    </tr>\n",
       "    <tr>\n",
       "      <td>22</td>\n",
       "      <td>38.8</td>\n",
       "      <td>7.7</td>\n",
       "      <td>67.4</td>\n",
       "      <td>4</td>\n",
       "      <td>8.444838</td>\n",
       "      <td>8.125631</td>\n",
       "      <td>9.049819</td>\n",
       "      <td>6.591948</td>\n",
       "      <td>9.247154</td>\n",
       "      <td>64.178131</td>\n",
       "    </tr>\n",
       "    <tr>\n",
       "      <td>23</td>\n",
       "      <td>52.6</td>\n",
       "      <td>9.8</td>\n",
       "      <td>52.2</td>\n",
       "      <td>2</td>\n",
       "      <td>6.687109</td>\n",
       "      <td>5.971262</td>\n",
       "      <td>7.261927</td>\n",
       "      <td>4.864453</td>\n",
       "      <td>7.504392</td>\n",
       "      <td>47.347050</td>\n",
       "    </tr>\n",
       "    <tr>\n",
       "      <td>24</td>\n",
       "      <td>41.2</td>\n",
       "      <td>11.5</td>\n",
       "      <td>54.2</td>\n",
       "      <td>2</td>\n",
       "      <td>6.812345</td>\n",
       "      <td>5.726848</td>\n",
       "      <td>7.177019</td>\n",
       "      <td>4.882044</td>\n",
       "      <td>7.474205</td>\n",
       "      <td>45.044991</td>\n",
       "    </tr>\n",
       "    <tr>\n",
       "      <td>25</td>\n",
       "      <td>57.3</td>\n",
       "      <td>9.7</td>\n",
       "      <td>45.5</td>\n",
       "      <td>3</td>\n",
       "      <td>7.699389</td>\n",
       "      <td>5.874931</td>\n",
       "      <td>7.681099</td>\n",
       "      <td>5.111385</td>\n",
       "      <td>7.754053</td>\n",
       "      <td>54.132908</td>\n",
       "    </tr>\n",
       "    <tr>\n",
       "      <td>26</td>\n",
       "      <td>24.9</td>\n",
       "      <td>10.6</td>\n",
       "      <td>52.2</td>\n",
       "      <td>2</td>\n",
       "      <td>6.873164</td>\n",
       "      <td>6.056784</td>\n",
       "      <td>8.068403</td>\n",
       "      <td>5.163070</td>\n",
       "      <td>7.802209</td>\n",
       "      <td>53.389267</td>\n",
       "    </tr>\n",
       "    <tr>\n",
       "      <td>27</td>\n",
       "      <td>50.8</td>\n",
       "      <td>8.0</td>\n",
       "      <td>45.7</td>\n",
       "      <td>3</td>\n",
       "      <td>7.244228</td>\n",
       "      <td>5.669881</td>\n",
       "      <td>7.147559</td>\n",
       "      <td>4.648230</td>\n",
       "      <td>7.208600</td>\n",
       "      <td>58.256229</td>\n",
       "    </tr>\n",
       "    <tr>\n",
       "      <td>28</td>\n",
       "      <td>24.0</td>\n",
       "      <td>8.8</td>\n",
       "      <td>56.2</td>\n",
       "      <td>2</td>\n",
       "      <td>7.443078</td>\n",
       "      <td>6.967909</td>\n",
       "      <td>8.578288</td>\n",
       "      <td>5.906723</td>\n",
       "      <td>8.610501</td>\n",
       "      <td>54.521240</td>\n",
       "    </tr>\n",
       "    <tr>\n",
       "      <td>29</td>\n",
       "      <td>59.8</td>\n",
       "      <td>9.5</td>\n",
       "      <td>62.9</td>\n",
       "      <td>4</td>\n",
       "      <td>7.383989</td>\n",
       "      <td>6.154858</td>\n",
       "      <td>8.440960</td>\n",
       "      <td>4.754452</td>\n",
       "      <td>7.523481</td>\n",
       "      <td>55.934387</td>\n",
       "    </tr>\n",
       "    <tr>\n",
       "      <td>30</td>\n",
       "      <td>0.0</td>\n",
       "      <td>8.8</td>\n",
       "      <td>62.9</td>\n",
       "      <td>1</td>\n",
       "      <td>7.104965</td>\n",
       "      <td>8.566935</td>\n",
       "      <td>10.005006</td>\n",
       "      <td>7.101099</td>\n",
       "      <td>9.976924</td>\n",
       "      <td>52.789772</td>\n",
       "    </tr>\n",
       "    <tr>\n",
       "      <td>31</td>\n",
       "      <td>76.2</td>\n",
       "      <td>9.0</td>\n",
       "      <td>48.2</td>\n",
       "      <td>3</td>\n",
       "      <td>7.739794</td>\n",
       "      <td>7.404888</td>\n",
       "      <td>8.945463</td>\n",
       "      <td>5.977873</td>\n",
       "      <td>8.553525</td>\n",
       "      <td>62.674736</td>\n",
       "    </tr>\n",
       "    <tr>\n",
       "      <td>32</td>\n",
       "      <td>67.0</td>\n",
       "      <td>10.3</td>\n",
       "      <td>63.1</td>\n",
       "      <td>4</td>\n",
       "      <td>9.131297</td>\n",
       "      <td>7.023759</td>\n",
       "      <td>7.760893</td>\n",
       "      <td>5.212759</td>\n",
       "      <td>7.862497</td>\n",
       "      <td>70.552605</td>\n",
       "    </tr>\n",
       "    <tr>\n",
       "      <td>33</td>\n",
       "      <td>14.8</td>\n",
       "      <td>12.2</td>\n",
       "      <td>44.1</td>\n",
       "      <td>1</td>\n",
       "      <td>7.478735</td>\n",
       "      <td>5.652489</td>\n",
       "      <td>7.938802</td>\n",
       "      <td>4.670021</td>\n",
       "      <td>7.337588</td>\n",
       "      <td>25.734550</td>\n",
       "    </tr>\n",
       "    <tr>\n",
       "      <td>34</td>\n",
       "      <td>35.1</td>\n",
       "      <td>10.0</td>\n",
       "      <td>52.1</td>\n",
       "      <td>2</td>\n",
       "      <td>6.930495</td>\n",
       "      <td>6.459904</td>\n",
       "      <td>8.053251</td>\n",
       "      <td>5.455748</td>\n",
       "      <td>8.142354</td>\n",
       "      <td>57.712112</td>\n",
       "    </tr>\n",
       "    <tr>\n",
       "      <td>35</td>\n",
       "      <td>26.0</td>\n",
       "      <td>10.7</td>\n",
       "      <td>51.6</td>\n",
       "      <td>3</td>\n",
       "      <td>7.134891</td>\n",
       "      <td>6.126869</td>\n",
       "      <td>7.406103</td>\n",
       "      <td>4.727388</td>\n",
       "      <td>7.452982</td>\n",
       "      <td>68.758698</td>\n",
       "    </tr>\n",
       "    <tr>\n",
       "      <td>36</td>\n",
       "      <td>55.1</td>\n",
       "      <td>8.0</td>\n",
       "      <td>71.2</td>\n",
       "      <td>2</td>\n",
       "      <td>7.088409</td>\n",
       "      <td>7.065613</td>\n",
       "      <td>8.262817</td>\n",
       "      <td>5.149237</td>\n",
       "      <td>7.619724</td>\n",
       "      <td>57.441147</td>\n",
       "    </tr>\n",
       "    <tr>\n",
       "      <td>37</td>\n",
       "      <td>21.8</td>\n",
       "      <td>11.0</td>\n",
       "      <td>47.8</td>\n",
       "      <td>2</td>\n",
       "      <td>8.504108</td>\n",
       "      <td>8.311644</td>\n",
       "      <td>9.784253</td>\n",
       "      <td>6.967156</td>\n",
       "      <td>9.687816</td>\n",
       "      <td>56.037926</td>\n",
       "    </tr>\n",
       "    <tr>\n",
       "      <td>38</td>\n",
       "      <td>44.0</td>\n",
       "      <td>10.0</td>\n",
       "      <td>62.0</td>\n",
       "      <td>4</td>\n",
       "      <td>8.311153</td>\n",
       "      <td>9.641408</td>\n",
       "      <td>10.589081</td>\n",
       "      <td>8.117790</td>\n",
       "      <td>10.873073</td>\n",
       "      <td>70.079727</td>\n",
       "    </tr>\n",
       "    <tr>\n",
       "      <td>39</td>\n",
       "      <td>48.6</td>\n",
       "      <td>9.7</td>\n",
       "      <td>65.3</td>\n",
       "      <td>4</td>\n",
       "      <td>8.357259</td>\n",
       "      <td>8.130354</td>\n",
       "      <td>8.929568</td>\n",
       "      <td>6.468164</td>\n",
       "      <td>9.248792</td>\n",
       "      <td>68.784096</td>\n",
       "    </tr>\n",
       "    <tr>\n",
       "      <td>40</td>\n",
       "      <td>71.0</td>\n",
       "      <td>6.9</td>\n",
       "      <td>54.1</td>\n",
       "      <td>3</td>\n",
       "      <td>7.388328</td>\n",
       "      <td>6.249975</td>\n",
       "      <td>7.616284</td>\n",
       "      <td>5.287762</td>\n",
       "      <td>7.869784</td>\n",
       "      <td>59.895222</td>\n",
       "    </tr>\n",
       "    <tr>\n",
       "      <td>41</td>\n",
       "      <td>24.3</td>\n",
       "      <td>13.7</td>\n",
       "      <td>46.3</td>\n",
       "      <td>3</td>\n",
       "      <td>7.527256</td>\n",
       "      <td>5.869297</td>\n",
       "      <td>7.353722</td>\n",
       "      <td>4.761319</td>\n",
       "      <td>7.317876</td>\n",
       "      <td>53.416351</td>\n",
       "    </tr>\n",
       "  </tbody>\n",
       "</table>\n",
       "</div>"
      ],
      "text/plain": [
       "    percent_city  percent_senior  graduates  region  log_land_area  \\\n",
       "0           34.6            11.1       62.9       4       8.202482   \n",
       "1           72.4             7.3       64.9       4       8.493515   \n",
       "2           13.4            11.7       44.7       1       7.268920   \n",
       "3           24.5            16.5       51.9       3       7.621685   \n",
       "4           41.9            10.7       50.0       3       7.396335   \n",
       "5           44.4             6.9       65.2       4       8.971321   \n",
       "6           78.7             8.4       46.5       3       7.834788   \n",
       "7           47.6             6.8       69.0       4       7.170120   \n",
       "8           18.8             8.0       45.9       3       7.438384   \n",
       "9            8.9            10.9       60.1       1       6.165418   \n",
       "10          49.8             7.8       53.2       3       7.560080   \n",
       "11          49.7             8.4       62.5       4       8.108924   \n",
       "12          24.9            10.7       39.1       3       7.960673   \n",
       "13          35.3            10.4       53.7       2       7.497207   \n",
       "14          48.5             9.3       42.3       3       7.943783   \n",
       "15          31.1            10.2       52.8       1       5.429346   \n",
       "16          29.7             7.3       67.6       4       9.055439   \n",
       "17          31.7            20.6       55.4       3       7.105786   \n",
       "18          43.7             9.4       57.5       2       7.060476   \n",
       "19          50.7             7.8       52.6       2       6.204558   \n",
       "20          30.1            10.9       50.4       1       7.371489   \n",
       "21          38.6             9.3       44.6       3       7.722678   \n",
       "22          38.8             7.7       67.4       4       8.444838   \n",
       "23          52.6             9.8       52.2       2       6.687109   \n",
       "24          41.2            11.5       54.2       2       6.812345   \n",
       "25          57.3             9.7       45.5       3       7.699389   \n",
       "26          24.9            10.6       52.2       2       6.873164   \n",
       "27          50.8             8.0       45.7       3       7.244228   \n",
       "28          24.0             8.8       56.2       2       7.443078   \n",
       "29          59.8             9.5       62.9       4       7.383989   \n",
       "30           0.0             8.8       62.9       1       7.104965   \n",
       "31          76.2             9.0       48.2       3       7.739794   \n",
       "32          67.0            10.3       63.1       4       9.131297   \n",
       "33          14.8            12.2       44.1       1       7.478735   \n",
       "34          35.1            10.0       52.1       2       6.930495   \n",
       "35          26.0            10.7       51.6       3       7.134891   \n",
       "36          55.1             8.0       71.2       2       7.088409   \n",
       "37          21.8            11.0       47.8       2       8.504108   \n",
       "38          44.0            10.0       62.0       4       8.311153   \n",
       "39          48.6             9.7       65.3       4       8.357259   \n",
       "40          71.0             6.9       54.1       3       7.388328   \n",
       "41          24.3            13.7       46.3       3       7.527256   \n",
       "\n",
       "    log_physicians  log_hospital_beds  log_labor  log_income  Crime Rate  \n",
       "0         7.765569           8.736168   6.290272    8.960853   79.991096  \n",
       "1         6.771936           7.712444   5.221436    7.763446   66.265907  \n",
       "2         5.834811           6.981006   5.054971    7.680176   19.936312  \n",
       "3         8.311644           9.214233   6.524590    9.226804   63.707203  \n",
       "4         6.584791           8.388223   5.288267    7.801800   51.788975  \n",
       "5         5.986452           7.218910   5.160204    7.787382   67.892677  \n",
       "6         7.473069           8.944289   5.968963    8.627302   63.909676  \n",
       "7         7.935230           8.514991   6.414770    9.128588   62.597260  \n",
       "8         6.605298           8.125927   4.790820    7.387709   55.491104  \n",
       "9         6.668228           7.929487   5.386328    8.189522   53.341946  \n",
       "10        5.645447           7.174724   4.843399    7.347944   58.452545  \n",
       "11        5.921578           6.834109   4.791650    7.559038   66.191208  \n",
       "12        6.056784           7.959975   5.130490    7.594381   54.514240  \n",
       "13        6.180017           7.667158   5.129307    7.888335   48.642780  \n",
       "14        6.291569           7.898782   5.152135    7.678789   56.656345  \n",
       "15        6.502790           8.064322   5.053056    7.724888   49.508442  \n",
       "16        7.380256           8.156223   5.855931    8.445697   69.649780  \n",
       "17        7.241366           8.725507   5.865901    8.679142   71.255577  \n",
       "18        6.109248           7.635304   4.862908    7.449498   53.533184  \n",
       "19        5.393628           7.070724   4.783316    7.415175   49.240826  \n",
       "20        7.738924           9.209140   6.338064    9.037296   43.943710  \n",
       "21        8.545003           9.710206   6.873992    9.564231   64.859650  \n",
       "22        8.125631           9.049819   6.591948    9.247154   64.178131  \n",
       "23        5.971262           7.261927   4.864453    7.504392   47.347050  \n",
       "24        5.726848           7.177019   4.882044    7.474205   45.044991  \n",
       "25        5.874931           7.681099   5.111385    7.754053   54.132908  \n",
       "26        6.056784           8.068403   5.163070    7.802209   53.389267  \n",
       "27        5.669881           7.147559   4.648230    7.208600   58.256229  \n",
       "28        6.967909           8.578288   5.906723    8.610501   54.521240  \n",
       "29        6.154858           8.440960   4.754452    7.523481   55.934387  \n",
       "30        8.566935          10.005006   7.101099    9.976924   52.789772  \n",
       "31        7.404888           8.945463   5.977873    8.553525   62.674736  \n",
       "32        7.023759           7.760893   5.212759    7.862497   70.552605  \n",
       "33        5.652489           7.938802   4.670021    7.337588   25.734550  \n",
       "34        6.459904           8.053251   5.455748    8.142354   57.712112  \n",
       "35        6.126869           7.406103   4.727388    7.452982   68.758698  \n",
       "36        7.065613           8.262817   5.149237    7.619724   57.441147  \n",
       "37        8.311644           9.784253   6.967156    9.687816   56.037926  \n",
       "38        9.641408          10.589081   8.117790   10.873073   70.079727  \n",
       "39        8.130354           8.929568   6.468164    9.248792   68.784096  \n",
       "40        6.249975           7.616284   5.287762    7.869784   59.895222  \n",
       "41        5.869297           7.353722   4.761319    7.317876   53.416351  "
      ]
     },
     "execution_count": 78,
     "metadata": {},
     "output_type": "execute_result"
    }
   ],
   "source": [
    "data_test_cleaned"
   ]
  },
  {
   "cell_type": "markdown",
   "metadata": {},
   "source": [
    "PREDICTIONS ARE MADE USING THE MODEL WE TRAINED EARLIER. NOW THESE NEW PREDICTIONS WILL BE ADDED TO THE NEW DATASET"
   ]
  },
  {
   "cell_type": "code",
   "execution_count": 79,
   "metadata": {},
   "outputs": [],
   "source": [
    "Data_Prediction = pd.read_excel('/Users/aryamonani/Downloads/Model Prediction.xlsx') #reading data again into new variable"
   ]
  },
  {
   "cell_type": "code",
   "execution_count": 80,
   "metadata": {},
   "outputs": [],
   "source": [
    "Data_Prediction['crime_rate'] = prediction_3"
   ]
  },
  {
   "cell_type": "code",
   "execution_count": 81,
   "metadata": {},
   "outputs": [
    {
     "data": {
      "text/html": [
       "<div>\n",
       "<style scoped>\n",
       "    .dataframe tbody tr th:only-of-type {\n",
       "        vertical-align: middle;\n",
       "    }\n",
       "\n",
       "    .dataframe tbody tr th {\n",
       "        vertical-align: top;\n",
       "    }\n",
       "\n",
       "    .dataframe thead th {\n",
       "        text-align: right;\n",
       "    }\n",
       "</style>\n",
       "<table border=\"1\" class=\"dataframe\">\n",
       "  <thead>\n",
       "    <tr style=\"text-align: right;\">\n",
       "      <th></th>\n",
       "      <th>land_area</th>\n",
       "      <th>percent_city</th>\n",
       "      <th>percent_senior</th>\n",
       "      <th>physicians</th>\n",
       "      <th>hospital_beds</th>\n",
       "      <th>graduates</th>\n",
       "      <th>labor</th>\n",
       "      <th>income</th>\n",
       "      <th>region</th>\n",
       "      <th>crime_rate</th>\n",
       "    </tr>\n",
       "  </thead>\n",
       "  <tbody>\n",
       "    <tr>\n",
       "      <td>0</td>\n",
       "      <td>3650</td>\n",
       "      <td>34.6</td>\n",
       "      <td>11.1</td>\n",
       "      <td>2358</td>\n",
       "      <td>6224</td>\n",
       "      <td>62.9</td>\n",
       "      <td>539.3</td>\n",
       "      <td>7792</td>\n",
       "      <td>4</td>\n",
       "      <td>79.991096</td>\n",
       "    </tr>\n",
       "    <tr>\n",
       "      <td>1</td>\n",
       "      <td>4883</td>\n",
       "      <td>72.4</td>\n",
       "      <td>7.3</td>\n",
       "      <td>873</td>\n",
       "      <td>2236</td>\n",
       "      <td>64.9</td>\n",
       "      <td>185.2</td>\n",
       "      <td>2353</td>\n",
       "      <td>4</td>\n",
       "      <td>66.265907</td>\n",
       "    </tr>\n",
       "    <tr>\n",
       "      <td>2</td>\n",
       "      <td>1435</td>\n",
       "      <td>13.4</td>\n",
       "      <td>11.7</td>\n",
       "      <td>342</td>\n",
       "      <td>1076</td>\n",
       "      <td>44.7</td>\n",
       "      <td>156.8</td>\n",
       "      <td>2165</td>\n",
       "      <td>1</td>\n",
       "      <td>19.936312</td>\n",
       "    </tr>\n",
       "  </tbody>\n",
       "</table>\n",
       "</div>"
      ],
      "text/plain": [
       "   land_area  percent_city  percent_senior  physicians  hospital_beds  \\\n",
       "0       3650          34.6            11.1        2358           6224   \n",
       "1       4883          72.4             7.3         873           2236   \n",
       "2       1435          13.4            11.7         342           1076   \n",
       "\n",
       "   graduates  labor  income  region  crime_rate  \n",
       "0       62.9  539.3    7792       4   79.991096  \n",
       "1       64.9  185.2    2353       4   66.265907  \n",
       "2       44.7  156.8    2165       1   19.936312  "
      ]
     },
     "execution_count": 81,
     "metadata": {},
     "output_type": "execute_result"
    }
   ],
   "source": [
    "Data_Prediction.head(3)"
   ]
  },
  {
   "cell_type": "code",
   "execution_count": 82,
   "metadata": {},
   "outputs": [
    {
     "data": {
      "text/html": [
       "<div>\n",
       "<style scoped>\n",
       "    .dataframe tbody tr th:only-of-type {\n",
       "        vertical-align: middle;\n",
       "    }\n",
       "\n",
       "    .dataframe tbody tr th {\n",
       "        vertical-align: top;\n",
       "    }\n",
       "\n",
       "    .dataframe thead th {\n",
       "        text-align: right;\n",
       "    }\n",
       "</style>\n",
       "<table border=\"1\" class=\"dataframe\">\n",
       "  <thead>\n",
       "    <tr style=\"text-align: right;\">\n",
       "      <th></th>\n",
       "      <th>land_area</th>\n",
       "      <th>percent_city</th>\n",
       "      <th>percent_senior</th>\n",
       "      <th>physicians</th>\n",
       "      <th>hospital_beds</th>\n",
       "      <th>graduates</th>\n",
       "      <th>labor</th>\n",
       "      <th>income</th>\n",
       "      <th>region</th>\n",
       "      <th>crime_rate</th>\n",
       "    </tr>\n",
       "  </thead>\n",
       "  <tbody>\n",
       "    <tr>\n",
       "      <td>0</td>\n",
       "      <td>3650</td>\n",
       "      <td>34.6</td>\n",
       "      <td>11.1</td>\n",
       "      <td>2358</td>\n",
       "      <td>6224</td>\n",
       "      <td>62.9</td>\n",
       "      <td>539.3</td>\n",
       "      <td>7792</td>\n",
       "      <td>4</td>\n",
       "      <td>79.991096</td>\n",
       "    </tr>\n",
       "    <tr>\n",
       "      <td>1</td>\n",
       "      <td>4883</td>\n",
       "      <td>72.4</td>\n",
       "      <td>7.3</td>\n",
       "      <td>873</td>\n",
       "      <td>2236</td>\n",
       "      <td>64.9</td>\n",
       "      <td>185.2</td>\n",
       "      <td>2353</td>\n",
       "      <td>4</td>\n",
       "      <td>66.265907</td>\n",
       "    </tr>\n",
       "    <tr>\n",
       "      <td>2</td>\n",
       "      <td>1435</td>\n",
       "      <td>13.4</td>\n",
       "      <td>11.7</td>\n",
       "      <td>342</td>\n",
       "      <td>1076</td>\n",
       "      <td>44.7</td>\n",
       "      <td>156.8</td>\n",
       "      <td>2165</td>\n",
       "      <td>1</td>\n",
       "      <td>19.936312</td>\n",
       "    </tr>\n",
       "    <tr>\n",
       "      <td>3</td>\n",
       "      <td>2042</td>\n",
       "      <td>24.5</td>\n",
       "      <td>16.5</td>\n",
       "      <td>4071</td>\n",
       "      <td>10039</td>\n",
       "      <td>51.9</td>\n",
       "      <td>681.7</td>\n",
       "      <td>10166</td>\n",
       "      <td>3</td>\n",
       "      <td>63.707203</td>\n",
       "    </tr>\n",
       "    <tr>\n",
       "      <td>4</td>\n",
       "      <td>1630</td>\n",
       "      <td>41.9</td>\n",
       "      <td>10.7</td>\n",
       "      <td>724</td>\n",
       "      <td>4395</td>\n",
       "      <td>50.0</td>\n",
       "      <td>198.0</td>\n",
       "      <td>2445</td>\n",
       "      <td>3</td>\n",
       "      <td>51.788975</td>\n",
       "    </tr>\n",
       "    <tr>\n",
       "      <td>5</td>\n",
       "      <td>7874</td>\n",
       "      <td>44.4</td>\n",
       "      <td>6.9</td>\n",
       "      <td>398</td>\n",
       "      <td>1365</td>\n",
       "      <td>65.2</td>\n",
       "      <td>174.2</td>\n",
       "      <td>2410</td>\n",
       "      <td>4</td>\n",
       "      <td>67.892677</td>\n",
       "    </tr>\n",
       "    <tr>\n",
       "      <td>6</td>\n",
       "      <td>2527</td>\n",
       "      <td>78.7</td>\n",
       "      <td>8.4</td>\n",
       "      <td>1760</td>\n",
       "      <td>7664</td>\n",
       "      <td>46.5</td>\n",
       "      <td>391.1</td>\n",
       "      <td>5582</td>\n",
       "      <td>3</td>\n",
       "      <td>63.909676</td>\n",
       "    </tr>\n",
       "    <tr>\n",
       "      <td>7</td>\n",
       "      <td>1300</td>\n",
       "      <td>47.6</td>\n",
       "      <td>6.8</td>\n",
       "      <td>2794</td>\n",
       "      <td>4989</td>\n",
       "      <td>69.0</td>\n",
       "      <td>610.8</td>\n",
       "      <td>9215</td>\n",
       "      <td>4</td>\n",
       "      <td>62.597260</td>\n",
       "    </tr>\n",
       "    <tr>\n",
       "      <td>8</td>\n",
       "      <td>1700</td>\n",
       "      <td>18.8</td>\n",
       "      <td>8.0</td>\n",
       "      <td>739</td>\n",
       "      <td>3381</td>\n",
       "      <td>45.9</td>\n",
       "      <td>120.4</td>\n",
       "      <td>1616</td>\n",
       "      <td>3</td>\n",
       "      <td>55.491104</td>\n",
       "    </tr>\n",
       "    <tr>\n",
       "      <td>9</td>\n",
       "      <td>476</td>\n",
       "      <td>8.9</td>\n",
       "      <td>10.9</td>\n",
       "      <td>787</td>\n",
       "      <td>2778</td>\n",
       "      <td>60.1</td>\n",
       "      <td>218.4</td>\n",
       "      <td>3603</td>\n",
       "      <td>1</td>\n",
       "      <td>53.341946</td>\n",
       "    </tr>\n",
       "  </tbody>\n",
       "</table>\n",
       "</div>"
      ],
      "text/plain": [
       "   land_area  percent_city  percent_senior  physicians  hospital_beds  \\\n",
       "0       3650          34.6            11.1        2358           6224   \n",
       "1       4883          72.4             7.3         873           2236   \n",
       "2       1435          13.4            11.7         342           1076   \n",
       "3       2042          24.5            16.5        4071          10039   \n",
       "4       1630          41.9            10.7         724           4395   \n",
       "5       7874          44.4             6.9         398           1365   \n",
       "6       2527          78.7             8.4        1760           7664   \n",
       "7       1300          47.6             6.8        2794           4989   \n",
       "8       1700          18.8             8.0         739           3381   \n",
       "9        476           8.9            10.9         787           2778   \n",
       "\n",
       "   graduates  labor  income  region  crime_rate  \n",
       "0       62.9  539.3    7792       4   79.991096  \n",
       "1       64.9  185.2    2353       4   66.265907  \n",
       "2       44.7  156.8    2165       1   19.936312  \n",
       "3       51.9  681.7   10166       3   63.707203  \n",
       "4       50.0  198.0    2445       3   51.788975  \n",
       "5       65.2  174.2    2410       4   67.892677  \n",
       "6       46.5  391.1    5582       3   63.909676  \n",
       "7       69.0  610.8    9215       4   62.597260  \n",
       "8       45.9  120.4    1616       3   55.491104  \n",
       "9       60.1  218.4    3603       1   53.341946  "
      ]
     },
     "execution_count": 82,
     "metadata": {},
     "output_type": "execute_result"
    }
   ],
   "source": [
    "Data_Prediction.head(10)"
   ]
  },
  {
   "cell_type": "code",
   "execution_count": 86,
   "metadata": {},
   "outputs": [],
   "source": [
    "Data_Prediction.to_excel(r'/Users/aryamonani/Desktop/Data_Prediction.xlsx', index = False) #downloading the final \n",
    "                                                                                           #document."
   ]
  },
  {
   "cell_type": "code",
   "execution_count": null,
   "metadata": {},
   "outputs": [],
   "source": []
  }
 ],
 "metadata": {
  "kernelspec": {
   "display_name": "Python 3",
   "language": "python",
   "name": "python3"
  },
  "language_info": {
   "codemirror_mode": {
    "name": "ipython",
    "version": 3
   },
   "file_extension": ".py",
   "mimetype": "text/x-python",
   "name": "python",
   "nbconvert_exporter": "python",
   "pygments_lexer": "ipython3",
   "version": "3.7.4"
  }
 },
 "nbformat": 4,
 "nbformat_minor": 2
}
